{
 "cells": [
  {
   "cell_type": "markdown",
   "id": "a3573a47-3689-4668-b62f-5c8451b2b4e9",
   "metadata": {
    "tags": []
   },
   "source": [
    "# 0. Install and Import Dependencies"
   ]
  },
  {
   "cell_type": "code",
   "execution_count": 1,
   "id": "ddfbccbe-41ae-4c23-98b1-a13868e2b499",
   "metadata": {
    "scrolled": true,
    "tags": []
   },
   "outputs": [
    {
     "name": "stdout",
     "output_type": "stream",
     "text": [
      "Package                   Version\n",
      "------------------------- --------------\n",
      "absl-py                   2.1.0\n",
      "altair                    5.4.1\n",
      "anyio                     4.5.0\n",
      "argon2-cffi               23.1.0\n",
      "argon2-cffi-bindings      21.2.0\n",
      "arrow                     1.3.0\n",
      "asgiref                   3.7.2\n",
      "asttokens                 2.4.1\n",
      "astunparse                1.6.3\n",
      "async-lru                 2.0.4\n",
      "attrs                     24.2.0\n",
      "babel                     2.16.0\n",
      "beautifulsoup4            4.12.3\n",
      "bleach                    6.1.0\n",
      "blinker                   1.9.0\n",
      "cachetools                5.5.0\n",
      "certifi                   2024.7.4\n",
      "cffi                      1.16.0\n",
      "charset-normalizer        3.3.2\n",
      "click                     8.1.7\n",
      "colorama                  0.4.6\n",
      "comm                      0.2.2\n",
      "contourpy                 1.3.0\n",
      "cycler                    0.12.1\n",
      "debugpy                   1.8.5\n",
      "decorator                 5.1.1\n",
      "defusedxml                0.7.1\n",
      "Django                    5.0.3\n",
      "docutils                  0.21.2\n",
      "et-xmlfile                1.1.0\n",
      "executing                 2.1.0\n",
      "fastjsonschema            2.20.0\n",
      "filelock                  3.16.1\n",
      "Flask                     3.1.0\n",
      "flatbuffers               24.3.25\n",
      "fonttools                 4.54.1\n",
      "fqdn                      1.5.1\n",
      "gast                      0.6.0\n",
      "gdown                     5.2.0\n",
      "geographiclib             2.0\n",
      "geopy                     2.4.1\n",
      "gitdb                     4.0.11\n",
      "GitPython                 3.1.43\n",
      "google-pasta              0.2.0\n",
      "grpcio                    1.66.1\n",
      "h11                       0.14.0\n",
      "h3                        3.7.7\n",
      "h5py                      3.11.0\n",
      "httpcore                  1.0.5\n",
      "httpx                     0.27.2\n",
      "idna                      3.7\n",
      "imageio                   2.35.1\n",
      "importlib_metadata        8.5.0\n",
      "ipykernel                 6.29.5\n",
      "ipython                   8.27.0\n",
      "ipywidgets                8.1.5\n",
      "isoduration               20.11.0\n",
      "itsdangerous              2.2.0\n",
      "jaraco.classes            3.4.0\n",
      "jaraco.context            6.0.1\n",
      "jaraco.functools          4.0.2\n",
      "jedi                      0.19.1\n",
      "Jinja2                    3.1.4\n",
      "joblib                    1.4.2\n",
      "json5                     0.9.25\n",
      "jsonpointer               3.0.0\n",
      "jsonschema                4.23.0\n",
      "jsonschema-specifications 2023.12.1\n",
      "jupyter                   1.1.1\n",
      "jupyter_client            8.6.3\n",
      "jupyter-console           6.6.3\n",
      "jupyter_core              5.7.2\n",
      "jupyter-events            0.10.0\n",
      "jupyter-lsp               2.2.5\n",
      "jupyter_server            2.14.2\n",
      "jupyter_server_terminals  0.5.3\n",
      "jupyterlab                4.2.5\n",
      "jupyterlab_pygments       0.3.0\n",
      "jupyterlab_server         2.27.3\n",
      "jupyterlab_widgets        3.0.13\n",
      "keras                     3.6.0\n",
      "keras-ctcmodel            1.0.0rc3\n",
      "Keras-Preprocessing       1.1.2\n",
      "keyring                   25.4.1\n",
      "kiwisolver                1.4.7\n",
      "libclang                  18.1.1\n",
      "Markdown                  3.7\n",
      "markdown-it-py            3.0.0\n",
      "MarkupSafe                2.1.5\n",
      "matplot                   0.1.9\n",
      "matplotlib                3.9.2\n",
      "matplotlib-inline         0.1.7\n",
      "mdurl                     0.1.2\n",
      "mistune                   3.0.2\n",
      "ml-dtypes                 0.4.1\n",
      "more-itertools            10.5.0\n",
      "mysql-connector-python    9.0.0\n",
      "namex                     0.0.8\n",
      "narwhals                  1.8.0\n",
      "nbclient                  0.10.0\n",
      "nbconvert                 7.16.4\n",
      "nbformat                  5.10.4\n",
      "nest-asyncio              1.6.0\n",
      "nh3                       0.2.18\n",
      "notebook                  7.2.2\n",
      "notebook_shim             0.2.4\n",
      "numpy                     1.26.3\n",
      "opencv-python             4.10.0.84\n",
      "openpyxl                  3.1.5\n",
      "opt-einsum                3.3.0\n",
      "optree                    0.12.1\n",
      "overrides                 7.7.0\n",
      "packaging                 24.1\n",
      "pandas                    2.1.4\n",
      "pandocfilters             1.5.1\n",
      "parso                     0.8.4\n",
      "pillow                    10.4.0\n",
      "pip                       24.3.1\n",
      "pkginfo                   1.10.0\n",
      "platformdirs              4.3.6\n",
      "prometheus_client         0.20.0\n",
      "prompt_toolkit            3.0.47\n",
      "protobuf                  4.25.4\n",
      "psutil                    6.0.0\n",
      "pure_eval                 0.2.3\n",
      "pyarrow                   17.0.0\n",
      "pycparser                 2.22\n",
      "pydeck                    0.9.1\n",
      "Pygments                  2.18.0\n",
      "pyloco                    0.0.139\n",
      "pyparsing                 3.1.4\n",
      "PySocks                   1.7.1\n",
      "python-dateutil           2.8.2\n",
      "python-json-logger        2.0.7\n",
      "pytz                      2023.3.post1\n",
      "pywin32                   306\n",
      "pywin32-ctypes            0.2.3\n",
      "pywinpty                  2.0.13\n",
      "PyYAML                    6.0.2\n",
      "pyzmq                     26.2.0\n",
      "readme_renderer           44.0\n",
      "referencing               0.35.1\n",
      "requests                  2.32.3\n",
      "requests-toolbelt         1.0.0\n",
      "rfc3339-validator         0.1.4\n",
      "rfc3986                   2.0.0\n",
      "rfc3986-validator         0.1.1\n",
      "rich                      13.8.1\n",
      "rpds-py                   0.20.0\n",
      "scikit-learn              1.5.2\n",
      "scipy                     1.14.1\n",
      "seaborn                   0.13.2\n",
      "Send2Trash                1.8.3\n",
      "setuptools                70.2.0\n",
      "SimpleWebSocketServer     0.1.2\n",
      "six                       1.16.0\n",
      "smmap                     5.0.1\n",
      "sniffio                   1.3.1\n",
      "soupsieve                 2.6\n",
      "sqlparse                  0.4.4\n",
      "stack-data                0.6.3\n",
      "streamlit                 1.38.0\n",
      "streamlit-option-menu     0.3.13\n",
      "tenacity                  8.5.0\n",
      "tensorboard               2.18.0\n",
      "tensorboard-data-server   0.7.2\n",
      "tensorflow                2.18.0\n",
      "tensorflow_intel          2.18.0\n",
      "termcolor                 2.4.0\n",
      "terminado                 0.18.1\n",
      "threadpoolctl             3.5.0\n",
      "timezonefinder            6.5.2\n",
      "tinycss2                  1.3.0\n",
      "tk                        0.1.0\n",
      "toml                      0.10.2\n",
      "tornado                   6.4.1\n",
      "tqdm                      4.66.5\n",
      "traitlets                 5.14.3\n",
      "twine                     5.1.1\n",
      "types-python-dateutil     2.9.0.20240906\n",
      "typing                    3.7.4.3\n",
      "typing_extensions         4.12.2\n",
      "tzdata                    2023.4\n",
      "uri-template              1.3.0\n",
      "urllib3                   2.2.2\n",
      "ushlex                    0.99.1\n",
      "watchdog                  4.0.2\n",
      "wcwidth                   0.2.13\n",
      "webcolors                 24.8.0\n",
      "webencodings              0.5.1\n",
      "websocket-client          1.8.0\n",
      "Werkzeug                  3.1.3\n",
      "wheel                     0.44.0\n",
      "widgetsnbextension        4.0.13\n",
      "wrapt                     1.16.0\n",
      "zipp                      3.20.2\n"
     ]
    }
   ],
   "source": [
    "!pip list"
   ]
  },
  {
   "cell_type": "code",
   "execution_count": 2,
   "id": "02f907ea-f669-46c7-adcf-7f257e663448",
   "metadata": {
    "tags": []
   },
   "outputs": [
    {
     "name": "stdout",
     "output_type": "stream",
     "text": [
      "Requirement already satisfied: opencv-python in c:\\users\\taruna maurya\\appdata\\local\\programs\\python\\python312\\lib\\site-packages (4.10.0.84)\n",
      "Requirement already satisfied: matplotlib in c:\\users\\taruna maurya\\appdata\\local\\programs\\python\\python312\\lib\\site-packages (3.9.2)\n",
      "Requirement already satisfied: imageio in c:\\users\\taruna maurya\\appdata\\local\\programs\\python\\python312\\lib\\site-packages (2.35.1)\n",
      "Requirement already satisfied: gdown in c:\\users\\taruna maurya\\appdata\\local\\programs\\python\\python312\\lib\\site-packages (5.2.0)\n",
      "Requirement already satisfied: tensorflow in c:\\users\\taruna maurya\\appdata\\local\\programs\\python\\python312\\lib\\site-packages (2.18.0)\n",
      "Requirement already satisfied: numpy>=1.21.2 in c:\\users\\taruna maurya\\appdata\\local\\programs\\python\\python312\\lib\\site-packages (from opencv-python) (1.26.3)\n",
      "Requirement already satisfied: contourpy>=1.0.1 in c:\\users\\taruna maurya\\appdata\\local\\programs\\python\\python312\\lib\\site-packages (from matplotlib) (1.3.0)\n",
      "Requirement already satisfied: cycler>=0.10 in c:\\users\\taruna maurya\\appdata\\local\\programs\\python\\python312\\lib\\site-packages (from matplotlib) (0.12.1)\n",
      "Requirement already satisfied: fonttools>=4.22.0 in c:\\users\\taruna maurya\\appdata\\local\\programs\\python\\python312\\lib\\site-packages (from matplotlib) (4.54.1)\n",
      "Requirement already satisfied: kiwisolver>=1.3.1 in c:\\users\\taruna maurya\\appdata\\local\\programs\\python\\python312\\lib\\site-packages (from matplotlib) (1.4.7)\n",
      "Requirement already satisfied: packaging>=20.0 in c:\\users\\taruna maurya\\appdata\\local\\programs\\python\\python312\\lib\\site-packages (from matplotlib) (24.1)\n",
      "Requirement already satisfied: pillow>=8 in c:\\users\\taruna maurya\\appdata\\local\\programs\\python\\python312\\lib\\site-packages (from matplotlib) (10.4.0)\n",
      "Requirement already satisfied: pyparsing>=2.3.1 in c:\\users\\taruna maurya\\appdata\\local\\programs\\python\\python312\\lib\\site-packages (from matplotlib) (3.1.4)\n",
      "Requirement already satisfied: python-dateutil>=2.7 in c:\\users\\taruna maurya\\appdata\\local\\programs\\python\\python312\\lib\\site-packages (from matplotlib) (2.8.2)\n",
      "Requirement already satisfied: beautifulsoup4 in c:\\users\\taruna maurya\\appdata\\local\\programs\\python\\python312\\lib\\site-packages (from gdown) (4.12.3)\n",
      "Requirement already satisfied: filelock in c:\\users\\taruna maurya\\appdata\\local\\programs\\python\\python312\\lib\\site-packages (from gdown) (3.16.1)\n",
      "Requirement already satisfied: requests[socks] in c:\\users\\taruna maurya\\appdata\\local\\programs\\python\\python312\\lib\\site-packages (from gdown) (2.32.3)\n",
      "Requirement already satisfied: tqdm in c:\\users\\taruna maurya\\appdata\\local\\programs\\python\\python312\\lib\\site-packages (from gdown) (4.66.5)\n",
      "Requirement already satisfied: tensorflow-intel==2.18.0 in c:\\users\\taruna maurya\\appdata\\local\\programs\\python\\python312\\lib\\site-packages (from tensorflow) (2.18.0)\n",
      "Requirement already satisfied: absl-py>=1.0.0 in c:\\users\\taruna maurya\\appdata\\local\\programs\\python\\python312\\lib\\site-packages (from tensorflow-intel==2.18.0->tensorflow) (2.1.0)\n",
      "Requirement already satisfied: astunparse>=1.6.0 in c:\\users\\taruna maurya\\appdata\\local\\programs\\python\\python312\\lib\\site-packages (from tensorflow-intel==2.18.0->tensorflow) (1.6.3)\n",
      "Requirement already satisfied: flatbuffers>=24.3.25 in c:\\users\\taruna maurya\\appdata\\local\\programs\\python\\python312\\lib\\site-packages (from tensorflow-intel==2.18.0->tensorflow) (24.3.25)\n",
      "Requirement already satisfied: gast!=0.5.0,!=0.5.1,!=0.5.2,>=0.2.1 in c:\\users\\taruna maurya\\appdata\\local\\programs\\python\\python312\\lib\\site-packages (from tensorflow-intel==2.18.0->tensorflow) (0.6.0)\n",
      "Requirement already satisfied: google-pasta>=0.1.1 in c:\\users\\taruna maurya\\appdata\\local\\programs\\python\\python312\\lib\\site-packages (from tensorflow-intel==2.18.0->tensorflow) (0.2.0)\n",
      "Requirement already satisfied: libclang>=13.0.0 in c:\\users\\taruna maurya\\appdata\\local\\programs\\python\\python312\\lib\\site-packages (from tensorflow-intel==2.18.0->tensorflow) (18.1.1)\n",
      "Requirement already satisfied: opt-einsum>=2.3.2 in c:\\users\\taruna maurya\\appdata\\local\\programs\\python\\python312\\lib\\site-packages (from tensorflow-intel==2.18.0->tensorflow) (3.3.0)\n",
      "Requirement already satisfied: protobuf!=4.21.0,!=4.21.1,!=4.21.2,!=4.21.3,!=4.21.4,!=4.21.5,<6.0.0dev,>=3.20.3 in c:\\users\\taruna maurya\\appdata\\local\\programs\\python\\python312\\lib\\site-packages (from tensorflow-intel==2.18.0->tensorflow) (4.25.4)\n",
      "Requirement already satisfied: setuptools in c:\\users\\taruna maurya\\appdata\\local\\programs\\python\\python312\\lib\\site-packages (from tensorflow-intel==2.18.0->tensorflow) (70.2.0)\n",
      "Requirement already satisfied: six>=1.12.0 in c:\\users\\taruna maurya\\appdata\\local\\programs\\python\\python312\\lib\\site-packages (from tensorflow-intel==2.18.0->tensorflow) (1.16.0)\n",
      "Requirement already satisfied: termcolor>=1.1.0 in c:\\users\\taruna maurya\\appdata\\local\\programs\\python\\python312\\lib\\site-packages (from tensorflow-intel==2.18.0->tensorflow) (2.4.0)\n",
      "Requirement already satisfied: typing-extensions>=3.6.6 in c:\\users\\taruna maurya\\appdata\\local\\programs\\python\\python312\\lib\\site-packages (from tensorflow-intel==2.18.0->tensorflow) (4.12.2)\n",
      "Requirement already satisfied: wrapt>=1.11.0 in c:\\users\\taruna maurya\\appdata\\local\\programs\\python\\python312\\lib\\site-packages (from tensorflow-intel==2.18.0->tensorflow) (1.16.0)\n",
      "Requirement already satisfied: grpcio<2.0,>=1.24.3 in c:\\users\\taruna maurya\\appdata\\local\\programs\\python\\python312\\lib\\site-packages (from tensorflow-intel==2.18.0->tensorflow) (1.66.1)\n",
      "Requirement already satisfied: tensorboard<2.19,>=2.18 in c:\\users\\taruna maurya\\appdata\\local\\programs\\python\\python312\\lib\\site-packages (from tensorflow-intel==2.18.0->tensorflow) (2.18.0)\n",
      "Requirement already satisfied: keras>=3.5.0 in c:\\users\\taruna maurya\\appdata\\local\\programs\\python\\python312\\lib\\site-packages (from tensorflow-intel==2.18.0->tensorflow) (3.6.0)\n",
      "Requirement already satisfied: h5py>=3.11.0 in c:\\users\\taruna maurya\\appdata\\local\\programs\\python\\python312\\lib\\site-packages (from tensorflow-intel==2.18.0->tensorflow) (3.11.0)\n",
      "Requirement already satisfied: ml-dtypes<0.5.0,>=0.4.0 in c:\\users\\taruna maurya\\appdata\\local\\programs\\python\\python312\\lib\\site-packages (from tensorflow-intel==2.18.0->tensorflow) (0.4.1)\n",
      "Requirement already satisfied: soupsieve>1.2 in c:\\users\\taruna maurya\\appdata\\local\\programs\\python\\python312\\lib\\site-packages (from beautifulsoup4->gdown) (2.6)\n",
      "Requirement already satisfied: charset-normalizer<4,>=2 in c:\\users\\taruna maurya\\appdata\\local\\programs\\python\\python312\\lib\\site-packages (from requests[socks]->gdown) (3.3.2)\n",
      "Requirement already satisfied: idna<4,>=2.5 in c:\\users\\taruna maurya\\appdata\\local\\programs\\python\\python312\\lib\\site-packages (from requests[socks]->gdown) (3.7)\n",
      "Requirement already satisfied: urllib3<3,>=1.21.1 in c:\\users\\taruna maurya\\appdata\\local\\programs\\python\\python312\\lib\\site-packages (from requests[socks]->gdown) (2.2.2)\n",
      "Requirement already satisfied: certifi>=2017.4.17 in c:\\users\\taruna maurya\\appdata\\local\\programs\\python\\python312\\lib\\site-packages (from requests[socks]->gdown) (2024.7.4)\n",
      "Requirement already satisfied: PySocks!=1.5.7,>=1.5.6 in c:\\users\\taruna maurya\\appdata\\local\\programs\\python\\python312\\lib\\site-packages (from requests[socks]->gdown) (1.7.1)\n",
      "Requirement already satisfied: colorama in c:\\users\\taruna maurya\\appdata\\local\\programs\\python\\python312\\lib\\site-packages (from tqdm->gdown) (0.4.6)\n",
      "Requirement already satisfied: wheel<1.0,>=0.23.0 in c:\\users\\taruna maurya\\appdata\\local\\programs\\python\\python312\\lib\\site-packages (from astunparse>=1.6.0->tensorflow-intel==2.18.0->tensorflow) (0.44.0)\n",
      "Requirement already satisfied: rich in c:\\users\\taruna maurya\\appdata\\local\\programs\\python\\python312\\lib\\site-packages (from keras>=3.5.0->tensorflow-intel==2.18.0->tensorflow) (13.8.1)\n",
      "Requirement already satisfied: namex in c:\\users\\taruna maurya\\appdata\\local\\programs\\python\\python312\\lib\\site-packages (from keras>=3.5.0->tensorflow-intel==2.18.0->tensorflow) (0.0.8)\n",
      "Requirement already satisfied: optree in c:\\users\\taruna maurya\\appdata\\local\\programs\\python\\python312\\lib\\site-packages (from keras>=3.5.0->tensorflow-intel==2.18.0->tensorflow) (0.12.1)\n",
      "Requirement already satisfied: markdown>=2.6.8 in c:\\users\\taruna maurya\\appdata\\local\\programs\\python\\python312\\lib\\site-packages (from tensorboard<2.19,>=2.18->tensorflow-intel==2.18.0->tensorflow) (3.7)\n",
      "Requirement already satisfied: tensorboard-data-server<0.8.0,>=0.7.0 in c:\\users\\taruna maurya\\appdata\\local\\programs\\python\\python312\\lib\\site-packages (from tensorboard<2.19,>=2.18->tensorflow-intel==2.18.0->tensorflow) (0.7.2)\n",
      "Requirement already satisfied: werkzeug>=1.0.1 in c:\\users\\taruna maurya\\appdata\\local\\programs\\python\\python312\\lib\\site-packages (from tensorboard<2.19,>=2.18->tensorflow-intel==2.18.0->tensorflow) (3.1.3)\n",
      "Requirement already satisfied: MarkupSafe>=2.1.1 in c:\\users\\taruna maurya\\appdata\\local\\programs\\python\\python312\\lib\\site-packages (from werkzeug>=1.0.1->tensorboard<2.19,>=2.18->tensorflow-intel==2.18.0->tensorflow) (2.1.5)\n",
      "Requirement already satisfied: markdown-it-py>=2.2.0 in c:\\users\\taruna maurya\\appdata\\local\\programs\\python\\python312\\lib\\site-packages (from rich->keras>=3.5.0->tensorflow-intel==2.18.0->tensorflow) (3.0.0)\n",
      "Requirement already satisfied: pygments<3.0.0,>=2.13.0 in c:\\users\\taruna maurya\\appdata\\local\\programs\\python\\python312\\lib\\site-packages (from rich->keras>=3.5.0->tensorflow-intel==2.18.0->tensorflow) (2.18.0)\n",
      "Requirement already satisfied: mdurl~=0.1 in c:\\users\\taruna maurya\\appdata\\local\\programs\\python\\python312\\lib\\site-packages (from markdown-it-py>=2.2.0->rich->keras>=3.5.0->tensorflow-intel==2.18.0->tensorflow) (0.1.2)\n"
     ]
    }
   ],
   "source": [
    "!pip install opencv-python matplotlib imageio gdown tensorflow"
   ]
  },
  {
   "cell_type": "code",
   "execution_count": 3,
   "id": "b24af50c-20b8-409d-ad78-30a933fdd669",
   "metadata": {
    "tags": []
   },
   "outputs": [],
   "source": [
    "import os\n",
    "import cv2\n",
    "import tensorflow as tf\n",
    "import numpy as np\n",
    "from typing import List\n",
    "from matplotlib import pyplot as plt\n",
    "import imageio"
   ]
  },
  {
   "cell_type": "code",
   "execution_count": 4,
   "id": "1e3db0b0-e559-4ad6-91fd-e7414b7d75e6",
   "metadata": {},
   "outputs": [
    {
     "data": {
      "text/plain": [
       "[]"
      ]
     },
     "execution_count": 4,
     "metadata": {},
     "output_type": "execute_result"
    }
   ],
   "source": [
    "tf.config.list_physical_devices('GPU')"
   ]
  },
  {
   "cell_type": "code",
   "execution_count": 5,
   "id": "378d045a-3003-4f93-b7d2-a25a97774a68",
   "metadata": {
    "tags": []
   },
   "outputs": [],
   "source": [
    "physical_devices = tf.config.list_physical_devices('GPU')\n",
    "try:\n",
    "    tf.config.experimental.set_memory_growth(physical_devices[0], True)\n",
    "except:\n",
    "    pass"
   ]
  },
  {
   "cell_type": "markdown",
   "id": "7a19e88e-c7b9-45c1-ae1e-f2109329c71b",
   "metadata": {
    "tags": []
   },
   "source": [
    "# 1. Build Data Loading Functions"
   ]
  },
  {
   "cell_type": "code",
   "execution_count": 6,
   "id": "8fb99c90-e05a-437f-839d-6e772f8c1dd5",
   "metadata": {
    "tags": []
   },
   "outputs": [],
   "source": [
    "import gdown"
   ]
  },
  {
   "cell_type": "code",
   "execution_count": null,
   "id": "c019e4c6-2af3-4160-99ea-5c8cb009f1a7",
   "metadata": {
    "tags": []
   },
   "outputs": [],
   "source": [
    "url = 'https://drive.google.com/uc?id=1YlvpDLix3S-U8fd-gqRwPcWXAXm8JwjL'\n",
    "output = 'data.zip'\n",
    "gdown.download(url, output, quiet=False)\n",
    "gdown.extractall('data.zip')"
   ]
  },
  {
   "cell_type": "code",
   "execution_count": 7,
   "id": "8548cc59-6dfc-4acc-abc3-3e65212db02e",
   "metadata": {
    "tags": []
   },
   "outputs": [],
   "source": [
    "def load_video(path:str) -> List[float]: \n",
    "\n",
    "    cap = cv2.VideoCapture(path)\n",
    "    frames = []\n",
    "    for _ in range(int(cap.get(cv2.CAP_PROP_FRAME_COUNT))): \n",
    "        ret, frame = cap.read()\n",
    "        frame = tf.image.rgb_to_grayscale(frame)\n",
    "        frames.append(frame[190:236,80:220,:])\n",
    "    cap.release()\n",
    "    \n",
    "    mean = tf.math.reduce_mean(frames)\n",
    "    std = tf.math.reduce_std(tf.cast(frames, tf.float32))\n",
    "    return tf.cast((frames - mean), tf.float32) / std"
   ]
  },
  {
   "cell_type": "code",
   "execution_count": 8,
   "id": "ec735e0b-ec98-4eb0-8f49-c35527d6670a",
   "metadata": {
    "tags": []
   },
   "outputs": [],
   "source": [
    "vocab = [x for x in \"abcdefghijklmnopqrstuvwxyz'?!123456789 \"]"
   ]
  },
  {
   "cell_type": "code",
   "execution_count": 9,
   "id": "be04e972-d7a5-4a72-82d8-a6bdde1f3ce6",
   "metadata": {
    "tags": []
   },
   "outputs": [
    {
     "name": "stdout",
     "output_type": "stream",
     "text": [
      "The vocabulary is: ['', 'a', 'b', 'c', 'd', 'e', 'f', 'g', 'h', 'i', 'j', 'k', 'l', 'm', 'n', 'o', 'p', 'q', 'r', 's', 't', 'u', 'v', 'w', 'x', 'y', 'z', \"'\", '?', '!', '1', '2', '3', '4', '5', '6', '7', '8', '9', ' '] (size =40)\n"
     ]
    }
   ],
   "source": [
    "char_to_num = tf.keras.layers.StringLookup(vocabulary=vocab, oov_token=\"\")\n",
    "num_to_char = tf.keras.layers.StringLookup(\n",
    "    vocabulary=char_to_num.get_vocabulary(), oov_token=\"\", invert=True\n",
    ")\n",
    "\n",
    "print(\n",
    "    f\"The vocabulary is: {char_to_num.get_vocabulary()} \"\n",
    "    f\"(size ={char_to_num.vocabulary_size()})\"\n",
    ")"
   ]
  },
  {
   "cell_type": "code",
   "execution_count": 10,
   "id": "559f7420-6802-45fa-9ca0-b1ff209b461c",
   "metadata": {
    "tags": []
   },
   "outputs": [
    {
     "data": {
      "text/plain": [
       "['',\n",
       " 'a',\n",
       " 'b',\n",
       " 'c',\n",
       " 'd',\n",
       " 'e',\n",
       " 'f',\n",
       " 'g',\n",
       " 'h',\n",
       " 'i',\n",
       " 'j',\n",
       " 'k',\n",
       " 'l',\n",
       " 'm',\n",
       " 'n',\n",
       " 'o',\n",
       " 'p',\n",
       " 'q',\n",
       " 'r',\n",
       " 's',\n",
       " 't',\n",
       " 'u',\n",
       " 'v',\n",
       " 'w',\n",
       " 'x',\n",
       " 'y',\n",
       " 'z',\n",
       " \"'\",\n",
       " '?',\n",
       " '!',\n",
       " '1',\n",
       " '2',\n",
       " '3',\n",
       " '4',\n",
       " '5',\n",
       " '6',\n",
       " '7',\n",
       " '8',\n",
       " '9',\n",
       " ' ']"
      ]
     },
     "execution_count": 10,
     "metadata": {},
     "output_type": "execute_result"
    }
   ],
   "source": [
    "char_to_num.get_vocabulary()"
   ]
  },
  {
   "cell_type": "code",
   "execution_count": null,
   "id": "797ff78b-b48f-4e14-bb62-8cd0ebf9501a",
   "metadata": {
    "tags": []
   },
   "outputs": [],
   "source": [
    "char_to_num(['n','i','c','k'])"
   ]
  },
  {
   "cell_type": "code",
   "execution_count": 11,
   "id": "8cd7f4f4-ae77-4509-a4f4-c723787ebad1",
   "metadata": {},
   "outputs": [
    {
     "data": {
      "text/plain": [
       "<tf.Tensor: shape=(4,), dtype=string, numpy=array([b'n', b'i', b'c', b'k'], dtype=object)>"
      ]
     },
     "execution_count": 11,
     "metadata": {},
     "output_type": "execute_result"
    }
   ],
   "source": [
    "num_to_char([14,  9,  3, 11])"
   ]
  },
  {
   "cell_type": "code",
   "execution_count": 12,
   "id": "9491bab5-6a3c-4f79-879a-8f9fbe73ae2e",
   "metadata": {
    "tags": []
   },
   "outputs": [],
   "source": [
    "def load_alignments(path:str) -> List[str]: \n",
    "    with open(path, 'r') as f: \n",
    "        lines = f.readlines() \n",
    "    tokens = []\n",
    "    for line in lines:\n",
    "        line = line.split()\n",
    "        if line[2] != 'sil': \n",
    "            tokens = [*tokens,' ',line[2]]\n",
    "    return char_to_num(tf.reshape(tf.strings.unicode_split(tokens, input_encoding='UTF-8'), (-1)))[1:]"
   ]
  },
  {
   "cell_type": "code",
   "execution_count": 25,
   "id": "dd01ca9f-77fb-4643-a2aa-47dd82c5d66b",
   "metadata": {
    "tags": []
   },
   "outputs": [],
   "source": [
    "def load_data(path: str): \n",
    "    path = bytes.decode(path.numpy())\n",
    "    #file_name = path.split('/')[-1].split('.')[0]\n",
    "    # File name splitting for windows\n",
    "    file_name = path.split('\\\\')[-1].split('.')[0]\n",
    "    video_path = os.path.join('data','s1',f'{file_name}.mpg')\n",
    "    alignment_path = os.path.join('data','alignments','s1',f'{file_name}.align')\n",
    "    frames = load_video(video_path) \n",
    "    alignments = load_alignments(alignment_path)\n",
    "    \n",
    "    return frames, alignments"
   ]
  },
  {
   "cell_type": "code",
   "execution_count": 26,
   "id": "8cb7cc58-31ae-4904-a805-1177a82717d2",
   "metadata": {
    "tags": []
   },
   "outputs": [],
   "source": [
    "test_path = '.\\\\data\\\\s1\\\\video.mpg'"
   ]
  },
  {
   "cell_type": "code",
   "execution_count": 27,
   "id": "76aa964f-0c84-490d-897a-d00e3966e2c9",
   "metadata": {},
   "outputs": [
    {
     "data": {
      "text/plain": [
       "'video'"
      ]
     },
     "execution_count": 27,
     "metadata": {},
     "output_type": "execute_result"
    }
   ],
   "source": [
    "tf.convert_to_tensor(test_path).numpy().decode('utf-8').split('\\\\')[-1].split('.')[0]"
   ]
  },
  {
   "cell_type": "code",
   "execution_count": 29,
   "id": "eb602c71-8560-4f9e-b26b-08202febb937",
   "metadata": {
    "scrolled": true,
    "tags": []
   },
   "outputs": [],
   "source": [
    "frames, alignments = load_data(tf.convert_to_tensor(test_path))"
   ]
  },
  {
   "cell_type": "code",
   "execution_count": 39,
   "id": "d048e560",
   "metadata": {},
   "outputs": [
    {
     "name": "stdout",
     "output_type": "stream",
     "text": [
      "Number of frames: 0\n"
     ]
    }
   ],
   "source": [
    "print(f\"Number of frames: {len(frames)}\")\n"
   ]
  },
  {
   "cell_type": "code",
   "execution_count": 41,
   "id": "aae92659",
   "metadata": {},
   "outputs": [
    {
     "name": "stdout",
     "output_type": "stream",
     "text": [
      "Number of frames loaded: 60\n"
     ]
    },
    {
     "data": {
      "image/png": "[encoded data removed]",
      "text/plain": [
       "<Figure size 640x480 with 1 Axes>"
      ]
     },
     "metadata": {},
     "output_type": "display_data"
    }
   ],
   "source": [
    "frames = load_video('.\\\\data\\\\s1\\\\video.mpg')\n",
    "print(f\"Number of frames loaded: {len(frames)}\")\n",
    "\n",
    "if len(frames) > 40:\n",
    "    plt.imshow(frames[40])\n",
    "else:\n",
    "    print(f\"Video has only {len(frames)} frames. Cannot access frame 40.\")\n"
   ]
  },
  {
   "cell_type": "code",
   "execution_count": 42,
   "id": "0e3184a1-6b02-4b4f-84a8-a0a65f951ea2",
   "metadata": {},
   "outputs": [
    {
     "data": {
      "text/plain": [
       "<matplotlib.image.AxesImage at 0x1fbce4e59d0>"
      ]
     },
     "execution_count": 42,
     "metadata": {},
     "output_type": "execute_result"
    },
    {
     "data": {
      "image/png": "[encoded data removed]",
      "text/plain": [
       "<Figure size 640x480 with 1 Axes>"
      ]
     },
     "metadata": {},
     "output_type": "display_data"
    }
   ],
   "source": [
    "plt.imshow(frames[40])"
   ]
  },
  {
   "cell_type": "code",
   "execution_count": 43,
   "id": "d7ec0833-d54b-4073-84cf-92d011c60ec1",
   "metadata": {},
   "outputs": [
    {
     "data": {
      "text/plain": [
       "<tf.Tensor: shape=(38,), dtype=int64, numpy=\n",
       "array([ 8,  5, 12, 12, 15, 39,  5, 22,  5, 18, 25, 15, 14,  5, 39, 13, 25,\n",
       "       39, 14,  1, 13,  5,  9, 19, 39, 20,  1, 18, 21, 14,  1, 39, 13,  1,\n",
       "       21, 18, 25,  1], dtype=int64)>"
      ]
     },
     "execution_count": 43,
     "metadata": {},
     "output_type": "execute_result"
    }
   ],
   "source": [
    "alignments"
   ]
  },
  {
   "cell_type": "code",
   "execution_count": 44,
   "id": "fe1ad370-b287-4b46-85a2-7c45b0bd9b10",
   "metadata": {},
   "outputs": [
    {
     "data": {
      "text/plain": [
       "<tf.Tensor: shape=(), dtype=string, numpy=b'hello everyone my nameis taruna maurya'>"
      ]
     },
     "execution_count": 44,
     "metadata": {},
     "output_type": "execute_result"
    }
   ],
   "source": [
    "tf.strings.reduce_join([bytes.decode(x) for x in num_to_char(alignments.numpy()).numpy()])"
   ]
  },
  {
   "cell_type": "code",
   "execution_count": 45,
   "id": "6871031a-b0ba-4c76-a852-f6329b0f2606",
   "metadata": {
    "tags": []
   },
   "outputs": [],
   "source": [
    "def mappable_function(path:str) ->List[str]:\n",
    "    result = tf.py_function(load_data, [path], (tf.float32, tf.int64))\n",
    "    return result"
   ]
  },
  {
   "cell_type": "markdown",
   "id": "c40a7eb4-0c3e-4eab-9291-5611cb68ce08",
   "metadata": {
    "tags": []
   },
   "source": [
    "# 2. Create Data Pipeline"
   ]
  },
  {
   "cell_type": "code",
   "execution_count": 46,
   "id": "7686355d-45aa-4c85-ad9c-053e6a9b4d81",
   "metadata": {
    "tags": []
   },
   "outputs": [],
   "source": [
    "from matplotlib import pyplot as plt"
   ]
  },
  {
   "cell_type": "code",
   "execution_count": 47,
   "id": "f066fea2-91b1-42ed-a67d-00566a1a53ff",
   "metadata": {
    "tags": []
   },
   "outputs": [],
   "source": [
    "data = tf.data.Dataset.list_files('./data/s1/*.mpg')\n",
    "data = data.shuffle(500, reshuffle_each_iteration=False)\n",
    "data = data.map(mappable_function)\n",
    "data = data.padded_batch(2, padded_shapes=([75,None,None,None],[40]))\n",
    "data = data.prefetch(tf.data.AUTOTUNE)\n",
    "# Added for split \n",
    "train = data.take(450)\n",
    "test = data.skip(450)"
   ]
  },
  {
   "cell_type": "code",
   "execution_count": 48,
   "id": "6b1365bd-7742-41d1-95d4-247021751c3a",
   "metadata": {},
   "outputs": [
    {
     "data": {
      "text/plain": [
       "51"
      ]
     },
     "execution_count": 48,
     "metadata": {},
     "output_type": "execute_result"
    }
   ],
   "source": [
    "len(test)"
   ]
  },
  {
   "cell_type": "code",
   "execution_count": 49,
   "id": "5281bde8-fdc8-4da1-bd55-5a7929a9e80c",
   "metadata": {},
   "outputs": [],
   "source": [
    "frames, alignments = data.as_numpy_iterator().next()"
   ]
  },
  {
   "cell_type": "code",
   "execution_count": 50,
   "id": "cbebe683-6afd-47fd-bba4-c83b4b13bb32",
   "metadata": {},
   "outputs": [
    {
     "data": {
      "text/plain": [
       "2"
      ]
     },
     "execution_count": 50,
     "metadata": {},
     "output_type": "execute_result"
    }
   ],
   "source": [
    "len(frames)"
   ]
  },
  {
   "cell_type": "code",
   "execution_count": 51,
   "id": "5cf2d676-93a9-434c-b3c7-bdcc2577b2e7",
   "metadata": {
    "tags": []
   },
   "outputs": [],
   "source": [
    "sample = data.as_numpy_iterator()"
   ]
  },
  {
   "cell_type": "code",
   "execution_count": 52,
   "id": "efa6cd46-7079-46c0-b45b-832f339f6cb0",
   "metadata": {
    "scrolled": true,
    "tags": []
   },
   "outputs": [
    {
     "data": {
      "text/plain": [
       "array([[[[[1.3058484 ],\n",
       "          [1.3058484 ],\n",
       "          [1.3804682 ],\n",
       "          ...,\n",
       "          [0.783509  ],\n",
       "          [0.82081896],\n",
       "          [0.14923981]],\n",
       "\n",
       "         [[1.3058484 ],\n",
       "          [1.3058484 ],\n",
       "          [1.3804682 ],\n",
       "          ...,\n",
       "          [0.5596493 ],\n",
       "          [0.82081896],\n",
       "          [9.290178  ]],\n",
       "\n",
       "         [[1.2685384 ],\n",
       "          [1.2685384 ],\n",
       "          [1.2685384 ],\n",
       "          ...,\n",
       "          [0.03730995],\n",
       "          [0.22385971],\n",
       "          [9.327488  ]],\n",
       "\n",
       "         ...,\n",
       "\n",
       "         [[0.9327488 ],\n",
       "          [0.9327488 ],\n",
       "          [0.89543885],\n",
       "          ...,\n",
       "          [0.03730995],\n",
       "          [0.        ],\n",
       "          [0.        ]],\n",
       "\n",
       "         [[0.9327488 ],\n",
       "          [0.9327488 ],\n",
       "          [0.89543885],\n",
       "          ...,\n",
       "          [0.        ],\n",
       "          [9.514038  ],\n",
       "          [9.514038  ]],\n",
       "\n",
       "         [[0.9327488 ],\n",
       "          [0.9327488 ],\n",
       "          [0.89543885],\n",
       "          ...,\n",
       "          [0.        ],\n",
       "          [9.514038  ],\n",
       "          [9.514038  ]]],\n",
       "\n",
       "\n",
       "        [[[1.3431582 ],\n",
       "          [1.3431582 ],\n",
       "          [1.3431582 ],\n",
       "          ...,\n",
       "          [0.7088891 ],\n",
       "          [0.82081896],\n",
       "          [0.44771942]],\n",
       "\n",
       "         [[1.3431582 ],\n",
       "          [1.3431582 ],\n",
       "          [1.3431582 ],\n",
       "          ...,\n",
       "          [0.4850294 ],\n",
       "          [0.82081896],\n",
       "          [9.215558  ]],\n",
       "\n",
       "         [[1.3058484 ],\n",
       "          [1.3058484 ],\n",
       "          [1.3058484 ],\n",
       "          ...,\n",
       "          [0.26116967],\n",
       "          [0.26116967],\n",
       "          [9.0663185 ]],\n",
       "\n",
       "         ...,\n",
       "\n",
       "         [[0.9327488 ],\n",
       "          [0.9327488 ],\n",
       "          [0.89543885],\n",
       "          ...,\n",
       "          [0.0746199 ],\n",
       "          [0.        ],\n",
       "          [9.514038  ]],\n",
       "\n",
       "         [[0.9327488 ],\n",
       "          [0.9327488 ],\n",
       "          [0.89543885],\n",
       "          ...,\n",
       "          [0.03730995],\n",
       "          [9.514038  ],\n",
       "          [9.476728  ]],\n",
       "\n",
       "         [[0.9327488 ],\n",
       "          [0.9327488 ],\n",
       "          [0.89543885],\n",
       "          ...,\n",
       "          [0.03730995],\n",
       "          [9.514038  ],\n",
       "          [9.476728  ]]],\n",
       "\n",
       "\n",
       "        [[[1.3804682 ],\n",
       "          [1.3804682 ],\n",
       "          [1.3804682 ],\n",
       "          ...,\n",
       "          [0.7461991 ],\n",
       "          [0.8581289 ],\n",
       "          [0.4850294 ]],\n",
       "\n",
       "         [[1.3804682 ],\n",
       "          [1.3804682 ],\n",
       "          [1.3804682 ],\n",
       "          ...,\n",
       "          [0.4850294 ],\n",
       "          [0.783509  ],\n",
       "          [9.252869  ]],\n",
       "\n",
       "         [[1.2685384 ],\n",
       "          [1.2685384 ],\n",
       "          [1.2685384 ],\n",
       "          ...,\n",
       "          [0.41040948],\n",
       "          [0.29847962],\n",
       "          [9.0663185 ]],\n",
       "\n",
       "         ...,\n",
       "\n",
       "         [[0.9327488 ],\n",
       "          [0.9327488 ],\n",
       "          [0.9327488 ],\n",
       "          ...,\n",
       "          [0.11192986],\n",
       "          [0.03730995],\n",
       "          [0.        ]],\n",
       "\n",
       "         [[0.9327488 ],\n",
       "          [0.9327488 ],\n",
       "          [0.9327488 ],\n",
       "          ...,\n",
       "          [0.        ],\n",
       "          [9.514038  ],\n",
       "          [9.476728  ]],\n",
       "\n",
       "         [[0.9327488 ],\n",
       "          [0.9327488 ],\n",
       "          [0.9327488 ],\n",
       "          ...,\n",
       "          [0.        ],\n",
       "          [9.514038  ],\n",
       "          [9.476728  ]]],\n",
       "\n",
       "\n",
       "        ...,\n",
       "\n",
       "\n",
       "        [[[1.3804682 ],\n",
       "          [1.3804682 ],\n",
       "          [1.4177783 ],\n",
       "          ...,\n",
       "          [0.6342692 ],\n",
       "          [0.9700588 ],\n",
       "          [0.59695923]],\n",
       "\n",
       "         [[1.3804682 ],\n",
       "          [1.3804682 ],\n",
       "          [1.4177783 ],\n",
       "          ...,\n",
       "          [0.44771942],\n",
       "          [0.82081896],\n",
       "          [0.11192986]],\n",
       "\n",
       "         [[1.4177783 ],\n",
       "          [1.3431582 ],\n",
       "          [1.3431582 ],\n",
       "          ...,\n",
       "          [0.26116967],\n",
       "          [0.37309954],\n",
       "          [9.178248  ]],\n",
       "\n",
       "         ...,\n",
       "\n",
       "         [[0.9700588 ],\n",
       "          [0.9327488 ],\n",
       "          [0.9327488 ],\n",
       "          ...,\n",
       "          [0.0746199 ],\n",
       "          [0.0746199 ],\n",
       "          [0.0746199 ]],\n",
       "\n",
       "         [[0.9700588 ],\n",
       "          [0.9327488 ],\n",
       "          [0.9327488 ],\n",
       "          ...,\n",
       "          [0.11192986],\n",
       "          [0.0746199 ],\n",
       "          [0.0746199 ]],\n",
       "\n",
       "         [[0.9700588 ],\n",
       "          [0.9327488 ],\n",
       "          [0.9327488 ],\n",
       "          ...,\n",
       "          [0.0746199 ],\n",
       "          [0.0746199 ],\n",
       "          [0.03730995]]],\n",
       "\n",
       "\n",
       "        [[[1.3058484 ],\n",
       "          [1.3058484 ],\n",
       "          [1.4177783 ],\n",
       "          ...,\n",
       "          [0.7088891 ],\n",
       "          [0.9700588 ],\n",
       "          [0.7088891 ]],\n",
       "\n",
       "         [[1.3058484 ],\n",
       "          [1.3058484 ],\n",
       "          [1.4177783 ],\n",
       "          ...,\n",
       "          [0.44771942],\n",
       "          [0.8581289 ],\n",
       "          [0.03730995]],\n",
       "\n",
       "         [[1.3431582 ],\n",
       "          [1.3058484 ],\n",
       "          [1.3058484 ],\n",
       "          ...,\n",
       "          [0.41040948],\n",
       "          [0.4850294 ],\n",
       "          [9.140939  ]],\n",
       "\n",
       "         ...,\n",
       "\n",
       "         [[0.9700588 ],\n",
       "          [0.89543885],\n",
       "          [0.89543885],\n",
       "          ...,\n",
       "          [0.11192986],\n",
       "          [0.0746199 ],\n",
       "          [0.0746199 ]],\n",
       "\n",
       "         [[0.9700588 ],\n",
       "          [0.89543885],\n",
       "          [0.89543885],\n",
       "          ...,\n",
       "          [0.18654977],\n",
       "          [0.03730995],\n",
       "          [0.03730995]],\n",
       "\n",
       "         [[0.9700588 ],\n",
       "          [0.89543885],\n",
       "          [0.89543885],\n",
       "          ...,\n",
       "          [0.14923981],\n",
       "          [0.03730995],\n",
       "          [0.        ]]],\n",
       "\n",
       "\n",
       "        [[[1.3058484 ],\n",
       "          [1.3058484 ],\n",
       "          [1.4177783 ],\n",
       "          ...,\n",
       "          [0.783509  ],\n",
       "          [1.0073687 ],\n",
       "          [0.59695923]],\n",
       "\n",
       "         [[1.3058484 ],\n",
       "          [1.3058484 ],\n",
       "          [1.4177783 ],\n",
       "          ...,\n",
       "          [0.52233934],\n",
       "          [0.89543885],\n",
       "          [9.327488  ]],\n",
       "\n",
       "         [[1.3058484 ],\n",
       "          [1.2685384 ],\n",
       "          [1.3058484 ],\n",
       "          ...,\n",
       "          [0.37309954],\n",
       "          [0.44771942],\n",
       "          [9.0663185 ]],\n",
       "\n",
       "         ...,\n",
       "\n",
       "         [[0.9700588 ],\n",
       "          [0.89543885],\n",
       "          [0.89543885],\n",
       "          ...,\n",
       "          [0.11192986],\n",
       "          [0.0746199 ],\n",
       "          [0.0746199 ]],\n",
       "\n",
       "         [[0.9700588 ],\n",
       "          [0.89543885],\n",
       "          [0.89543885],\n",
       "          ...,\n",
       "          [0.14923981],\n",
       "          [0.03730995],\n",
       "          [0.03730995]],\n",
       "\n",
       "         [[0.9700588 ],\n",
       "          [0.89543885],\n",
       "          [0.89543885],\n",
       "          ...,\n",
       "          [0.11192986],\n",
       "          [0.03730995],\n",
       "          [0.        ]]]],\n",
       "\n",
       "\n",
       "\n",
       "       [[[[1.4949075 ],\n",
       "          [1.4584463 ],\n",
       "          [1.4584463 ],\n",
       "          ...,\n",
       "          [0.32815042],\n",
       "          [0.29168925],\n",
       "          [0.29168925]],\n",
       "\n",
       "         [[1.4949075 ],\n",
       "          [1.4949075 ],\n",
       "          [1.4949075 ],\n",
       "          ...,\n",
       "          [0.32815042],\n",
       "          [0.29168925],\n",
       "          [0.29168925]],\n",
       "\n",
       "         [[1.5678297 ],\n",
       "          [1.5678297 ],\n",
       "          [1.4949075 ],\n",
       "          ...,\n",
       "          [0.40107274],\n",
       "          [0.32815042],\n",
       "          [0.32815042]],\n",
       "\n",
       "         ...,\n",
       "\n",
       "         [[1.0209124 ],\n",
       "          [1.0209124 ],\n",
       "          [1.0209124 ],\n",
       "          ...,\n",
       "          [0.10938347],\n",
       "          [0.07292231],\n",
       "          [0.03646116]],\n",
       "\n",
       "         [[1.0209124 ],\n",
       "          [1.0209124 ],\n",
       "          [1.0209124 ],\n",
       "          ...,\n",
       "          [0.03646116],\n",
       "          [0.03646116],\n",
       "          [0.03646116]],\n",
       "\n",
       "         [[1.0209124 ],\n",
       "          [1.0209124 ],\n",
       "          [1.0209124 ],\n",
       "          ...,\n",
       "          [9.188211  ],\n",
       "          [9.224673  ],\n",
       "          [9.224673  ]]],\n",
       "\n",
       "\n",
       "        [[[1.4949075 ],\n",
       "          [1.4949075 ],\n",
       "          [1.5313686 ],\n",
       "          ...,\n",
       "          [0.2552281 ],\n",
       "          [0.2552281 ],\n",
       "          [0.2552281 ]],\n",
       "\n",
       "         [[1.4219851 ],\n",
       "          [1.604291  ],\n",
       "          [1.5313686 ],\n",
       "          ...,\n",
       "          [0.2552281 ],\n",
       "          [0.2552281 ],\n",
       "          [0.2552281 ]],\n",
       "\n",
       "         [[1.5678297 ],\n",
       "          [1.5678297 ],\n",
       "          [1.4949075 ],\n",
       "          ...,\n",
       "          [0.29168925],\n",
       "          [0.2552281 ],\n",
       "          [0.2552281 ]],\n",
       "\n",
       "         ...,\n",
       "\n",
       "         [[1.1302959 ],\n",
       "          [1.0573735 ],\n",
       "          [1.0573735 ],\n",
       "          ...,\n",
       "          [9.297595  ],\n",
       "          [9.297595  ],\n",
       "          [9.297595  ]],\n",
       "\n",
       "         [[1.1302959 ],\n",
       "          [1.0573735 ],\n",
       "          [1.0573735 ],\n",
       "          ...,\n",
       "          [0.03646116],\n",
       "          [0.        ],\n",
       "          [0.        ]],\n",
       "\n",
       "         [[1.1302959 ],\n",
       "          [1.0573735 ],\n",
       "          [1.0573735 ],\n",
       "          ...,\n",
       "          [9.224673  ],\n",
       "          [9.261134  ],\n",
       "          [9.261134  ]]],\n",
       "\n",
       "\n",
       "        [[[1.4949075 ],\n",
       "          [1.5313686 ],\n",
       "          [1.4949075 ],\n",
       "          ...,\n",
       "          [0.36461157],\n",
       "          [0.36461157],\n",
       "          [0.36461157]],\n",
       "\n",
       "         [[1.4219851 ],\n",
       "          [1.5678297 ],\n",
       "          [1.5678297 ],\n",
       "          ...,\n",
       "          [0.36461157],\n",
       "          [0.36461157],\n",
       "          [0.36461157]],\n",
       "\n",
       "         [[1.5313686 ],\n",
       "          [1.5313686 ],\n",
       "          [1.4584463 ],\n",
       "          ...,\n",
       "          [0.21876694],\n",
       "          [0.2552281 ],\n",
       "          [0.2552281 ]],\n",
       "\n",
       "         ...,\n",
       "\n",
       "         [[1.1302959 ],\n",
       "          [1.0573735 ],\n",
       "          [1.0209124 ],\n",
       "          ...,\n",
       "          [9.261134  ],\n",
       "          [9.261134  ],\n",
       "          [0.        ]],\n",
       "\n",
       "         [[1.1302959 ],\n",
       "          [1.0573735 ],\n",
       "          [1.0209124 ],\n",
       "          ...,\n",
       "          [0.03646116],\n",
       "          [0.        ],\n",
       "          [0.        ]],\n",
       "\n",
       "         [[1.1302959 ],\n",
       "          [1.0573735 ],\n",
       "          [1.0209124 ],\n",
       "          ...,\n",
       "          [9.261134  ],\n",
       "          [9.261134  ],\n",
       "          [9.261134  ]]],\n",
       "\n",
       "\n",
       "        ...,\n",
       "\n",
       "\n",
       "        [[[1.4219851 ],\n",
       "          [1.5313686 ],\n",
       "          [1.4949075 ],\n",
       "          ...,\n",
       "          [0.36461157],\n",
       "          [0.36461157],\n",
       "          [0.36461157]],\n",
       "\n",
       "         [[1.3126017 ],\n",
       "          [1.4949075 ],\n",
       "          [1.5313686 ],\n",
       "          ...,\n",
       "          [0.36461157],\n",
       "          [0.36461157],\n",
       "          [0.36461157]],\n",
       "\n",
       "         [[1.4219851 ],\n",
       "          [1.4219851 ],\n",
       "          [1.4584463 ],\n",
       "          ...,\n",
       "          [0.2552281 ],\n",
       "          [0.29168925],\n",
       "          [0.29168925]],\n",
       "\n",
       "         ...,\n",
       "\n",
       "         [[1.0209124 ],\n",
       "          [1.0209124 ],\n",
       "          [1.0209124 ],\n",
       "          ...,\n",
       "          [0.03646116],\n",
       "          [0.03646116],\n",
       "          [0.        ]],\n",
       "\n",
       "         [[1.0209124 ],\n",
       "          [1.0209124 ],\n",
       "          [1.0209124 ],\n",
       "          ...,\n",
       "          [9.297595  ],\n",
       "          [9.297595  ],\n",
       "          [9.297595  ]],\n",
       "\n",
       "         [[1.0209124 ],\n",
       "          [1.0209124 ],\n",
       "          [0.98445123],\n",
       "          ...,\n",
       "          [0.03646116],\n",
       "          [0.03646116],\n",
       "          [0.03646116]]],\n",
       "\n",
       "\n",
       "        [[[1.5313686 ],\n",
       "          [1.5313686 ],\n",
       "          [1.4949075 ],\n",
       "          ...,\n",
       "          [0.36461157],\n",
       "          [0.32815042],\n",
       "          [0.32815042]],\n",
       "\n",
       "         [[1.3126017 ],\n",
       "          [1.4949075 ],\n",
       "          [1.385524  ],\n",
       "          ...,\n",
       "          [0.36461157],\n",
       "          [0.32815042],\n",
       "          [0.32815042]],\n",
       "\n",
       "         [[1.4219851 ],\n",
       "          [1.4219851 ],\n",
       "          [1.4584463 ],\n",
       "          ...,\n",
       "          [0.2552281 ],\n",
       "          [0.29168925],\n",
       "          [0.29168925]],\n",
       "\n",
       "         ...,\n",
       "\n",
       "         [[1.0938348 ],\n",
       "          [1.0573735 ],\n",
       "          [1.0573735 ],\n",
       "          ...,\n",
       "          [0.07292231],\n",
       "          [0.07292231],\n",
       "          [0.03646116]],\n",
       "\n",
       "         [[1.0938348 ],\n",
       "          [1.0573735 ],\n",
       "          [1.0573735 ],\n",
       "          ...,\n",
       "          [0.03646116],\n",
       "          [0.03646116],\n",
       "          [9.297595  ]],\n",
       "\n",
       "         [[1.0938348 ],\n",
       "          [1.0573735 ],\n",
       "          [1.0573735 ],\n",
       "          ...,\n",
       "          [9.297595  ],\n",
       "          [9.261134  ],\n",
       "          [9.224673  ]]],\n",
       "\n",
       "\n",
       "        [[[1.5678297 ],\n",
       "          [1.5678297 ],\n",
       "          [1.4584463 ],\n",
       "          ...,\n",
       "          [0.36461157],\n",
       "          [0.32815042],\n",
       "          [0.32815042]],\n",
       "\n",
       "         [[1.3490628 ],\n",
       "          [1.4949075 ],\n",
       "          [1.385524  ],\n",
       "          ...,\n",
       "          [0.36461157],\n",
       "          [0.32815042],\n",
       "          [0.32815042]],\n",
       "\n",
       "         [[1.4949075 ],\n",
       "          [1.4949075 ],\n",
       "          [1.5313686 ],\n",
       "          ...,\n",
       "          [0.29168925],\n",
       "          [0.29168925],\n",
       "          [0.21876694]],\n",
       "\n",
       "         ...,\n",
       "\n",
       "         [[1.0938348 ],\n",
       "          [1.0938348 ],\n",
       "          [1.0573735 ],\n",
       "          ...,\n",
       "          [0.07292231],\n",
       "          [0.07292231],\n",
       "          [0.03646116]],\n",
       "\n",
       "         [[1.0938348 ],\n",
       "          [1.0938348 ],\n",
       "          [1.0573735 ],\n",
       "          ...,\n",
       "          [0.03646116],\n",
       "          [0.03646116],\n",
       "          [9.297595  ]],\n",
       "\n",
       "         [[1.0938348 ],\n",
       "          [1.0938348 ],\n",
       "          [1.0573735 ],\n",
       "          ...,\n",
       "          [9.297595  ],\n",
       "          [9.261134  ],\n",
       "          [9.224673  ]]]]], dtype=float32)"
      ]
     },
     "execution_count": 52,
     "metadata": {},
     "output_type": "execute_result"
    }
   ],
   "source": [
    "val = sample.next(); val[0]"
   ]
  },
  {
   "cell_type": "code",
   "execution_count": 61,
   "id": "acf5eb4f-a0da-4a9a-bf24-af13e9cc2fbe",
   "metadata": {
    "tags": []
   },
   "outputs": [
    {
     "name": "stdout",
     "output_type": "stream",
     "text": [
      "Shape of frames: (75, 46, 140, 1)\n"
     ]
    }
   ],
   "source": [
    "import imageio\n",
    "import numpy as np\n",
    "\n",
    "# Assuming val[0][0] contains the frames with shape (75, 46, 140, 1)\n",
    "frames = val[0][0]\n",
    "\n",
    "# Check the shape of the frames\n",
    "print(f\"Shape of frames: {frames.shape}\")\n",
    "\n",
    "# Convert frames to (num_frames, height, width, 3) if grayscale (i.e., having only 1 channel)\n",
    "if frames.shape[-1] == 1:\n",
    "    # Convert to 3-channel RGB by repeating the grayscale values\n",
    "    frames = np.repeat(frames, 3, axis=-1)\n",
    "\n",
    "# Ensure the frames are in uint8 format and scale to [0, 255] if needed\n",
    "frames = np.uint8(frames * 255)  # if frames are normalized between [0, 1], otherwise just cast\n",
    "\n",
    "# Now save the frames as an animated GIF\n",
    "imageio.mimsave('./animation.gif', frames, fps=10)\n",
    "\n",
    "\n",
    "# imageio.mimsave('./animation.gif', val[0][0], fps=10)"
   ]
  },
  {
   "cell_type": "code",
   "execution_count": 62,
   "id": "c33a87a2-d5e0-4ec9-b174-73ebf41bf03a",
   "metadata": {
    "tags": []
   },
   "outputs": [
    {
     "data": {
      "text/plain": [
       "<matplotlib.image.AxesImage at 0x1fbd496ade0>"
      ]
     },
     "execution_count": 62,
     "metadata": {},
     "output_type": "execute_result"
    },
    {
     "data": {
      "image/png": "[encoded data removed]",
      "text/plain": [
       "<Figure size 640x480 with 1 Axes>"
      ]
     },
     "metadata": {},
     "output_type": "display_data"
    }
   ],
   "source": [
    "# 0:videos, 0: 1st video out of the batch,  0: return the first frame in the video \n",
    "plt.imshow(val[0][0][35])"
   ]
  },
  {
   "cell_type": "code",
   "execution_count": 63,
   "id": "84593332-133c-4205-b7a6-8e235d5e2b3b",
   "metadata": {
    "tags": []
   },
   "outputs": [
    {
     "data": {
      "text/plain": [
       "<tf.Tensor: shape=(), dtype=string, numpy=b'bin blue at l eight please'>"
      ]
     },
     "execution_count": 63,
     "metadata": {},
     "output_type": "execute_result"
    }
   ],
   "source": [
    "tf.strings.reduce_join([num_to_char(word) for word in val[1][0]])"
   ]
  },
  {
   "cell_type": "markdown",
   "id": "0f47733c-83bc-465c-b118-b198b492ad37",
   "metadata": {
    "tags": []
   },
   "source": [
    "# 3. Design the Deep Neural Network"
   ]
  },
  {
   "cell_type": "code",
   "execution_count": 64,
   "id": "d8e9a497-191b-4842-afbd-26f5e13c43ba",
   "metadata": {
    "tags": []
   },
   "outputs": [],
   "source": [
    "from tensorflow.keras.models import Sequential \n",
    "from tensorflow.keras.layers import Conv3D, LSTM, Dense, Dropout, Bidirectional, MaxPool3D, Activation, Reshape, SpatialDropout3D, BatchNormalization, TimeDistributed, Flatten\n",
    "from tensorflow.keras.optimizers import Adam\n",
    "from tensorflow.keras.callbacks import ModelCheckpoint, LearningRateScheduler"
   ]
  },
  {
   "cell_type": "code",
   "execution_count": 65,
   "id": "3f753ed2-70b9-4236-8c1c-08ca065dc8bf",
   "metadata": {},
   "outputs": [
    {
     "data": {
      "text/plain": [
       "(75, 46, 140, 1)"
      ]
     },
     "execution_count": 65,
     "metadata": {},
     "output_type": "execute_result"
    }
   ],
   "source": [
    "data.as_numpy_iterator().next()[0][0].shape"
   ]
  },
  {
   "cell_type": "code",
   "execution_count": 66,
   "id": "f9171056-a352-491a-9ed9-92b28ced268e",
   "metadata": {
    "tags": []
   },
   "outputs": [
    {
     "name": "stderr",
     "output_type": "stream",
     "text": [
      "c:\\Users\\TARUNA MAURYA\\AppData\\Local\\Programs\\Python\\Python312\\Lib\\site-packages\\keras\\src\\layers\\convolutional\\base_conv.py:107: UserWarning: Do not pass an `input_shape`/`input_dim` argument to a layer. When using Sequential models, prefer using an `Input(shape)` object as the first layer in the model instead.\n",
      "  super().__init__(activity_regularizer=activity_regularizer, **kwargs)\n"
     ]
    }
   ],
   "source": [
    "model = Sequential()\n",
    "model.add(Conv3D(128, 3, input_shape=(75,46,140,1), padding='same'))\n",
    "model.add(Activation('relu'))\n",
    "model.add(MaxPool3D((1,2,2)))\n",
    "\n",
    "model.add(Conv3D(256, 3, padding='same'))\n",
    "model.add(Activation('relu'))\n",
    "model.add(MaxPool3D((1,2,2)))\n",
    "\n",
    "model.add(Conv3D(75, 3, padding='same'))\n",
    "model.add(Activation('relu'))\n",
    "model.add(MaxPool3D((1,2,2)))\n",
    "\n",
    "model.add(TimeDistributed(Flatten()))\n",
    "\n",
    "model.add(Bidirectional(LSTM(128, kernel_initializer='Orthogonal', return_sequences=True)))\n",
    "model.add(Dropout(.5))\n",
    "\n",
    "model.add(Bidirectional(LSTM(128, kernel_initializer='Orthogonal', return_sequences=True)))\n",
    "model.add(Dropout(.5))\n",
    "\n",
    "model.add(Dense(char_to_num.vocabulary_size()+1, kernel_initializer='he_normal', activation='softmax'))"
   ]
  },
  {
   "cell_type": "code",
   "execution_count": 67,
   "id": "78851825-2bcd-42a9-b7f2-28bb5a6bf43a",
   "metadata": {
    "collapsed": true,
    "jupyter": {
     "outputs_hidden": true
    },
    "tags": []
   },
   "outputs": [
    {
     "data": {
      "text/html": [
       "<pre style=\"white-space:pre;overflow-x:auto;line-height:normal;font-family:Menlo,'DejaVu Sans Mono',consolas,'Courier New',monospace\"><span style=\"font-weight: bold\">Model: \"sequential\"</span>\n",
       "</pre>\n"
      ],
      "text/plain": [
       "\u001b[1mModel: \"sequential\"\u001b[0m\n"
      ]
     },
     "metadata": {},
     "output_type": "display_data"
    },
    {
     "data": {
      "text/html": [
       "<pre style=\"white-space:pre;overflow-x:auto;line-height:normal;font-family:Menlo,'DejaVu Sans Mono',consolas,'Courier New',monospace\">┏━━━━━━━━━━━━━━━━━━━━━━━━━━━━━━━━━┳━━━━━━━━━━━━━━━━━━━━━━━━┳━━━━━━━━━━━━━━━┓\n",
       "┃<span style=\"font-weight: bold\"> Layer (type)                    </span>┃<span style=\"font-weight: bold\"> Output Shape           </span>┃<span style=\"font-weight: bold\">       Param # </span>┃\n",
       "┡━━━━━━━━━━━━━━━━━━━━━━━━━━━━━━━━━╇━━━━━━━━━━━━━━━━━━━━━━━━╇━━━━━━━━━━━━━━━┩\n",
       "│ conv3d (<span style=\"color: #0087ff; text-decoration-color: #0087ff\">Conv3D</span>)                 │ (<span style=\"color: #00d7ff; text-decoration-color: #00d7ff\">None</span>, <span style=\"color: #00af00; text-decoration-color: #00af00\">75</span>, <span style=\"color: #00af00; text-decoration-color: #00af00\">46</span>, <span style=\"color: #00af00; text-decoration-color: #00af00\">140</span>,    │         <span style=\"color: #00af00; text-decoration-color: #00af00\">3,584</span> │\n",
       "│                                 │ <span style=\"color: #00af00; text-decoration-color: #00af00\">128</span>)                   │               │\n",
       "├─────────────────────────────────┼────────────────────────┼───────────────┤\n",
       "│ activation (<span style=\"color: #0087ff; text-decoration-color: #0087ff\">Activation</span>)         │ (<span style=\"color: #00d7ff; text-decoration-color: #00d7ff\">None</span>, <span style=\"color: #00af00; text-decoration-color: #00af00\">75</span>, <span style=\"color: #00af00; text-decoration-color: #00af00\">46</span>, <span style=\"color: #00af00; text-decoration-color: #00af00\">140</span>,    │             <span style=\"color: #00af00; text-decoration-color: #00af00\">0</span> │\n",
       "│                                 │ <span style=\"color: #00af00; text-decoration-color: #00af00\">128</span>)                   │               │\n",
       "├─────────────────────────────────┼────────────────────────┼───────────────┤\n",
       "│ max_pooling3d (<span style=\"color: #0087ff; text-decoration-color: #0087ff\">MaxPooling3D</span>)    │ (<span style=\"color: #00d7ff; text-decoration-color: #00d7ff\">None</span>, <span style=\"color: #00af00; text-decoration-color: #00af00\">75</span>, <span style=\"color: #00af00; text-decoration-color: #00af00\">23</span>, <span style=\"color: #00af00; text-decoration-color: #00af00\">70</span>,     │             <span style=\"color: #00af00; text-decoration-color: #00af00\">0</span> │\n",
       "│                                 │ <span style=\"color: #00af00; text-decoration-color: #00af00\">128</span>)                   │               │\n",
       "├─────────────────────────────────┼────────────────────────┼───────────────┤\n",
       "│ conv3d_1 (<span style=\"color: #0087ff; text-decoration-color: #0087ff\">Conv3D</span>)               │ (<span style=\"color: #00d7ff; text-decoration-color: #00d7ff\">None</span>, <span style=\"color: #00af00; text-decoration-color: #00af00\">75</span>, <span style=\"color: #00af00; text-decoration-color: #00af00\">23</span>, <span style=\"color: #00af00; text-decoration-color: #00af00\">70</span>,     │       <span style=\"color: #00af00; text-decoration-color: #00af00\">884,992</span> │\n",
       "│                                 │ <span style=\"color: #00af00; text-decoration-color: #00af00\">256</span>)                   │               │\n",
       "├─────────────────────────────────┼────────────────────────┼───────────────┤\n",
       "│ activation_1 (<span style=\"color: #0087ff; text-decoration-color: #0087ff\">Activation</span>)       │ (<span style=\"color: #00d7ff; text-decoration-color: #00d7ff\">None</span>, <span style=\"color: #00af00; text-decoration-color: #00af00\">75</span>, <span style=\"color: #00af00; text-decoration-color: #00af00\">23</span>, <span style=\"color: #00af00; text-decoration-color: #00af00\">70</span>,     │             <span style=\"color: #00af00; text-decoration-color: #00af00\">0</span> │\n",
       "│                                 │ <span style=\"color: #00af00; text-decoration-color: #00af00\">256</span>)                   │               │\n",
       "├─────────────────────────────────┼────────────────────────┼───────────────┤\n",
       "│ max_pooling3d_1 (<span style=\"color: #0087ff; text-decoration-color: #0087ff\">MaxPooling3D</span>)  │ (<span style=\"color: #00d7ff; text-decoration-color: #00d7ff\">None</span>, <span style=\"color: #00af00; text-decoration-color: #00af00\">75</span>, <span style=\"color: #00af00; text-decoration-color: #00af00\">11</span>, <span style=\"color: #00af00; text-decoration-color: #00af00\">35</span>,     │             <span style=\"color: #00af00; text-decoration-color: #00af00\">0</span> │\n",
       "│                                 │ <span style=\"color: #00af00; text-decoration-color: #00af00\">256</span>)                   │               │\n",
       "├─────────────────────────────────┼────────────────────────┼───────────────┤\n",
       "│ conv3d_2 (<span style=\"color: #0087ff; text-decoration-color: #0087ff\">Conv3D</span>)               │ (<span style=\"color: #00d7ff; text-decoration-color: #00d7ff\">None</span>, <span style=\"color: #00af00; text-decoration-color: #00af00\">75</span>, <span style=\"color: #00af00; text-decoration-color: #00af00\">11</span>, <span style=\"color: #00af00; text-decoration-color: #00af00\">35</span>, <span style=\"color: #00af00; text-decoration-color: #00af00\">75</span>) │       <span style=\"color: #00af00; text-decoration-color: #00af00\">518,475</span> │\n",
       "├─────────────────────────────────┼────────────────────────┼───────────────┤\n",
       "│ activation_2 (<span style=\"color: #0087ff; text-decoration-color: #0087ff\">Activation</span>)       │ (<span style=\"color: #00d7ff; text-decoration-color: #00d7ff\">None</span>, <span style=\"color: #00af00; text-decoration-color: #00af00\">75</span>, <span style=\"color: #00af00; text-decoration-color: #00af00\">11</span>, <span style=\"color: #00af00; text-decoration-color: #00af00\">35</span>, <span style=\"color: #00af00; text-decoration-color: #00af00\">75</span>) │             <span style=\"color: #00af00; text-decoration-color: #00af00\">0</span> │\n",
       "├─────────────────────────────────┼────────────────────────┼───────────────┤\n",
       "│ max_pooling3d_2 (<span style=\"color: #0087ff; text-decoration-color: #0087ff\">MaxPooling3D</span>)  │ (<span style=\"color: #00d7ff; text-decoration-color: #00d7ff\">None</span>, <span style=\"color: #00af00; text-decoration-color: #00af00\">75</span>, <span style=\"color: #00af00; text-decoration-color: #00af00\">5</span>, <span style=\"color: #00af00; text-decoration-color: #00af00\">17</span>, <span style=\"color: #00af00; text-decoration-color: #00af00\">75</span>)  │             <span style=\"color: #00af00; text-decoration-color: #00af00\">0</span> │\n",
       "├─────────────────────────────────┼────────────────────────┼───────────────┤\n",
       "│ time_distributed                │ (<span style=\"color: #00d7ff; text-decoration-color: #00d7ff\">None</span>, <span style=\"color: #00af00; text-decoration-color: #00af00\">75</span>, <span style=\"color: #00af00; text-decoration-color: #00af00\">6375</span>)       │             <span style=\"color: #00af00; text-decoration-color: #00af00\">0</span> │\n",
       "│ (<span style=\"color: #0087ff; text-decoration-color: #0087ff\">TimeDistributed</span>)               │                        │               │\n",
       "├─────────────────────────────────┼────────────────────────┼───────────────┤\n",
       "│ bidirectional (<span style=\"color: #0087ff; text-decoration-color: #0087ff\">Bidirectional</span>)   │ (<span style=\"color: #00d7ff; text-decoration-color: #00d7ff\">None</span>, <span style=\"color: #00af00; text-decoration-color: #00af00\">75</span>, <span style=\"color: #00af00; text-decoration-color: #00af00\">256</span>)        │     <span style=\"color: #00af00; text-decoration-color: #00af00\">6,660,096</span> │\n",
       "├─────────────────────────────────┼────────────────────────┼───────────────┤\n",
       "│ dropout (<span style=\"color: #0087ff; text-decoration-color: #0087ff\">Dropout</span>)               │ (<span style=\"color: #00d7ff; text-decoration-color: #00d7ff\">None</span>, <span style=\"color: #00af00; text-decoration-color: #00af00\">75</span>, <span style=\"color: #00af00; text-decoration-color: #00af00\">256</span>)        │             <span style=\"color: #00af00; text-decoration-color: #00af00\">0</span> │\n",
       "├─────────────────────────────────┼────────────────────────┼───────────────┤\n",
       "│ bidirectional_1 (<span style=\"color: #0087ff; text-decoration-color: #0087ff\">Bidirectional</span>) │ (<span style=\"color: #00d7ff; text-decoration-color: #00d7ff\">None</span>, <span style=\"color: #00af00; text-decoration-color: #00af00\">75</span>, <span style=\"color: #00af00; text-decoration-color: #00af00\">256</span>)        │       <span style=\"color: #00af00; text-decoration-color: #00af00\">394,240</span> │\n",
       "├─────────────────────────────────┼────────────────────────┼───────────────┤\n",
       "│ dropout_1 (<span style=\"color: #0087ff; text-decoration-color: #0087ff\">Dropout</span>)             │ (<span style=\"color: #00d7ff; text-decoration-color: #00d7ff\">None</span>, <span style=\"color: #00af00; text-decoration-color: #00af00\">75</span>, <span style=\"color: #00af00; text-decoration-color: #00af00\">256</span>)        │             <span style=\"color: #00af00; text-decoration-color: #00af00\">0</span> │\n",
       "├─────────────────────────────────┼────────────────────────┼───────────────┤\n",
       "│ dense (<span style=\"color: #0087ff; text-decoration-color: #0087ff\">Dense</span>)                   │ (<span style=\"color: #00d7ff; text-decoration-color: #00d7ff\">None</span>, <span style=\"color: #00af00; text-decoration-color: #00af00\">75</span>, <span style=\"color: #00af00; text-decoration-color: #00af00\">41</span>)         │        <span style=\"color: #00af00; text-decoration-color: #00af00\">10,537</span> │\n",
       "└─────────────────────────────────┴────────────────────────┴───────────────┘\n",
       "</pre>\n"
      ],
      "text/plain": [
       "┏━━━━━━━━━━━━━━━━━━━━━━━━━━━━━━━━━┳━━━━━━━━━━━━━━━━━━━━━━━━┳━━━━━━━━━━━━━━━┓\n",
       "┃\u001b[1m \u001b[0m\u001b[1mLayer (type)                   \u001b[0m\u001b[1m \u001b[0m┃\u001b[1m \u001b[0m\u001b[1mOutput Shape          \u001b[0m\u001b[1m \u001b[0m┃\u001b[1m \u001b[0m\u001b[1m      Param #\u001b[0m\u001b[1m \u001b[0m┃\n",
       "┡━━━━━━━━━━━━━━━━━━━━━━━━━━━━━━━━━╇━━━━━━━━━━━━━━━━━━━━━━━━╇━━━━━━━━━━━━━━━┩\n",
       "│ conv3d (\u001b[38;5;33mConv3D\u001b[0m)                 │ (\u001b[38;5;45mNone\u001b[0m, \u001b[38;5;34m75\u001b[0m, \u001b[38;5;34m46\u001b[0m, \u001b[38;5;34m140\u001b[0m,    │         \u001b[38;5;34m3,584\u001b[0m │\n",
       "│                                 │ \u001b[38;5;34m128\u001b[0m)                   │               │\n",
       "├─────────────────────────────────┼────────────────────────┼───────────────┤\n",
       "│ activation (\u001b[38;5;33mActivation\u001b[0m)         │ (\u001b[38;5;45mNone\u001b[0m, \u001b[38;5;34m75\u001b[0m, \u001b[38;5;34m46\u001b[0m, \u001b[38;5;34m140\u001b[0m,    │             \u001b[38;5;34m0\u001b[0m │\n",
       "│                                 │ \u001b[38;5;34m128\u001b[0m)                   │               │\n",
       "├─────────────────────────────────┼────────────────────────┼───────────────┤\n",
       "│ max_pooling3d (\u001b[38;5;33mMaxPooling3D\u001b[0m)    │ (\u001b[38;5;45mNone\u001b[0m, \u001b[38;5;34m75\u001b[0m, \u001b[38;5;34m23\u001b[0m, \u001b[38;5;34m70\u001b[0m,     │             \u001b[38;5;34m0\u001b[0m │\n",
       "│                                 │ \u001b[38;5;34m128\u001b[0m)                   │               │\n",
       "├─────────────────────────────────┼────────────────────────┼───────────────┤\n",
       "│ conv3d_1 (\u001b[38;5;33mConv3D\u001b[0m)               │ (\u001b[38;5;45mNone\u001b[0m, \u001b[38;5;34m75\u001b[0m, \u001b[38;5;34m23\u001b[0m, \u001b[38;5;34m70\u001b[0m,     │       \u001b[38;5;34m884,992\u001b[0m │\n",
       "│                                 │ \u001b[38;5;34m256\u001b[0m)                   │               │\n",
       "├─────────────────────────────────┼────────────────────────┼───────────────┤\n",
       "│ activation_1 (\u001b[38;5;33mActivation\u001b[0m)       │ (\u001b[38;5;45mNone\u001b[0m, \u001b[38;5;34m75\u001b[0m, \u001b[38;5;34m23\u001b[0m, \u001b[38;5;34m70\u001b[0m,     │             \u001b[38;5;34m0\u001b[0m │\n",
       "│                                 │ \u001b[38;5;34m256\u001b[0m)                   │               │\n",
       "├─────────────────────────────────┼────────────────────────┼───────────────┤\n",
       "│ max_pooling3d_1 (\u001b[38;5;33mMaxPooling3D\u001b[0m)  │ (\u001b[38;5;45mNone\u001b[0m, \u001b[38;5;34m75\u001b[0m, \u001b[38;5;34m11\u001b[0m, \u001b[38;5;34m35\u001b[0m,     │             \u001b[38;5;34m0\u001b[0m │\n",
       "│                                 │ \u001b[38;5;34m256\u001b[0m)                   │               │\n",
       "├─────────────────────────────────┼────────────────────────┼───────────────┤\n",
       "│ conv3d_2 (\u001b[38;5;33mConv3D\u001b[0m)               │ (\u001b[38;5;45mNone\u001b[0m, \u001b[38;5;34m75\u001b[0m, \u001b[38;5;34m11\u001b[0m, \u001b[38;5;34m35\u001b[0m, \u001b[38;5;34m75\u001b[0m) │       \u001b[38;5;34m518,475\u001b[0m │\n",
       "├─────────────────────────────────┼────────────────────────┼───────────────┤\n",
       "│ activation_2 (\u001b[38;5;33mActivation\u001b[0m)       │ (\u001b[38;5;45mNone\u001b[0m, \u001b[38;5;34m75\u001b[0m, \u001b[38;5;34m11\u001b[0m, \u001b[38;5;34m35\u001b[0m, \u001b[38;5;34m75\u001b[0m) │             \u001b[38;5;34m0\u001b[0m │\n",
       "├─────────────────────────────────┼────────────────────────┼───────────────┤\n",
       "│ max_pooling3d_2 (\u001b[38;5;33mMaxPooling3D\u001b[0m)  │ (\u001b[38;5;45mNone\u001b[0m, \u001b[38;5;34m75\u001b[0m, \u001b[38;5;34m5\u001b[0m, \u001b[38;5;34m17\u001b[0m, \u001b[38;5;34m75\u001b[0m)  │             \u001b[38;5;34m0\u001b[0m │\n",
       "├─────────────────────────────────┼────────────────────────┼───────────────┤\n",
       "│ time_distributed                │ (\u001b[38;5;45mNone\u001b[0m, \u001b[38;5;34m75\u001b[0m, \u001b[38;5;34m6375\u001b[0m)       │             \u001b[38;5;34m0\u001b[0m │\n",
       "│ (\u001b[38;5;33mTimeDistributed\u001b[0m)               │                        │               │\n",
       "├─────────────────────────────────┼────────────────────────┼───────────────┤\n",
       "│ bidirectional (\u001b[38;5;33mBidirectional\u001b[0m)   │ (\u001b[38;5;45mNone\u001b[0m, \u001b[38;5;34m75\u001b[0m, \u001b[38;5;34m256\u001b[0m)        │     \u001b[38;5;34m6,660,096\u001b[0m │\n",
       "├─────────────────────────────────┼────────────────────────┼───────────────┤\n",
       "│ dropout (\u001b[38;5;33mDropout\u001b[0m)               │ (\u001b[38;5;45mNone\u001b[0m, \u001b[38;5;34m75\u001b[0m, \u001b[38;5;34m256\u001b[0m)        │             \u001b[38;5;34m0\u001b[0m │\n",
       "├─────────────────────────────────┼────────────────────────┼───────────────┤\n",
       "│ bidirectional_1 (\u001b[38;5;33mBidirectional\u001b[0m) │ (\u001b[38;5;45mNone\u001b[0m, \u001b[38;5;34m75\u001b[0m, \u001b[38;5;34m256\u001b[0m)        │       \u001b[38;5;34m394,240\u001b[0m │\n",
       "├─────────────────────────────────┼────────────────────────┼───────────────┤\n",
       "│ dropout_1 (\u001b[38;5;33mDropout\u001b[0m)             │ (\u001b[38;5;45mNone\u001b[0m, \u001b[38;5;34m75\u001b[0m, \u001b[38;5;34m256\u001b[0m)        │             \u001b[38;5;34m0\u001b[0m │\n",
       "├─────────────────────────────────┼────────────────────────┼───────────────┤\n",
       "│ dense (\u001b[38;5;33mDense\u001b[0m)                   │ (\u001b[38;5;45mNone\u001b[0m, \u001b[38;5;34m75\u001b[0m, \u001b[38;5;34m41\u001b[0m)         │        \u001b[38;5;34m10,537\u001b[0m │\n",
       "└─────────────────────────────────┴────────────────────────┴───────────────┘\n"
      ]
     },
     "metadata": {},
     "output_type": "display_data"
    },
    {
     "data": {
      "text/html": [
       "<pre style=\"white-space:pre;overflow-x:auto;line-height:normal;font-family:Menlo,'DejaVu Sans Mono',consolas,'Courier New',monospace\"><span style=\"font-weight: bold\"> Total params: </span><span style=\"color: #00af00; text-decoration-color: #00af00\">8,471,924</span> (32.32 MB)\n",
       "</pre>\n"
      ],
      "text/plain": [
       "\u001b[1m Total params: \u001b[0m\u001b[38;5;34m8,471,924\u001b[0m (32.32 MB)\n"
      ]
     },
     "metadata": {},
     "output_type": "display_data"
    },
    {
     "data": {
      "text/html": [
       "<pre style=\"white-space:pre;overflow-x:auto;line-height:normal;font-family:Menlo,'DejaVu Sans Mono',consolas,'Courier New',monospace\"><span style=\"font-weight: bold\"> Trainable params: </span><span style=\"color: #00af00; text-decoration-color: #00af00\">8,471,924</span> (32.32 MB)\n",
       "</pre>\n"
      ],
      "text/plain": [
       "\u001b[1m Trainable params: \u001b[0m\u001b[38;5;34m8,471,924\u001b[0m (32.32 MB)\n"
      ]
     },
     "metadata": {},
     "output_type": "display_data"
    },
    {
     "data": {
      "text/html": [
       "<pre style=\"white-space:pre;overflow-x:auto;line-height:normal;font-family:Menlo,'DejaVu Sans Mono',consolas,'Courier New',monospace\"><span style=\"font-weight: bold\"> Non-trainable params: </span><span style=\"color: #00af00; text-decoration-color: #00af00\">0</span> (0.00 B)\n",
       "</pre>\n"
      ],
      "text/plain": [
       "\u001b[1m Non-trainable params: \u001b[0m\u001b[38;5;34m0\u001b[0m (0.00 B)\n"
      ]
     },
     "metadata": {},
     "output_type": "display_data"
    }
   ],
   "source": [
    "model.summary()"
   ]
  },
  {
   "cell_type": "code",
   "execution_count": 68,
   "id": "f4b4798c-a65a-4c47-9e2a-3b09dc98d320",
   "metadata": {},
   "outputs": [
    {
     "data": {
      "text/plain": [
       "6375"
      ]
     },
     "execution_count": 68,
     "metadata": {},
     "output_type": "execute_result"
    }
   ],
   "source": [
    "5*17*75"
   ]
  },
  {
   "cell_type": "code",
   "execution_count": 69,
   "id": "e5c2eae0-c359-41a4-97a0-75c44dccb7d1",
   "metadata": {
    "tags": []
   },
   "outputs": [
    {
     "name": "stdout",
     "output_type": "stream",
     "text": [
      "\u001b[1m1/1\u001b[0m \u001b[32m━━━━━━━━━━━━━━━━━━━━\u001b[0m\u001b[37m\u001b[0m \u001b[1m5s\u001b[0m 5s/step\n"
     ]
    }
   ],
   "source": [
    "yhat = model.predict(val[0])"
   ]
  },
  {
   "cell_type": "code",
   "execution_count": 70,
   "id": "ffdc7319-0d69-4f7e-a6d4-ce72deb81c0b",
   "metadata": {},
   "outputs": [
    {
     "data": {
      "text/plain": [
       "<tf.Tensor: shape=(), dtype=string, numpy=b'ttttttttttttttttttttfffffffftfffffffffffffffttttttttttttttttjjjjjjjjjjccccc'>"
      ]
     },
     "execution_count": 70,
     "metadata": {},
     "output_type": "execute_result"
    }
   ],
   "source": [
    "tf.strings.reduce_join([num_to_char(x) for x in tf.argmax(yhat[0],axis=1)])"
   ]
  },
  {
   "cell_type": "code",
   "execution_count": 71,
   "id": "6ed47531-8317-4255-9a12-b757642258e6",
   "metadata": {
    "tags": []
   },
   "outputs": [
    {
     "data": {
      "text/plain": [
       "<tf.Tensor: shape=(), dtype=string, numpy=b'ttttttttttttttttttttfffffffftfffffffffffffffttttttttttttttttjjjjjjjjjjccccc'>"
      ]
     },
     "execution_count": 71,
     "metadata": {},
     "output_type": "execute_result"
    }
   ],
   "source": [
    "tf.strings.reduce_join([num_to_char(tf.argmax(x)) for x in yhat[0]])"
   ]
  },
  {
   "cell_type": "code",
   "execution_count": 72,
   "id": "7c37b9b9-5298-4038-9c33-5031d1b457f0",
   "metadata": {
    "tags": []
   },
   "outputs": [
    {
     "data": {
      "text/plain": [
       "(None, 75, 46, 140, 1)"
      ]
     },
     "execution_count": 72,
     "metadata": {},
     "output_type": "execute_result"
    }
   ],
   "source": [
    "model.input_shape"
   ]
  },
  {
   "cell_type": "code",
   "execution_count": 73,
   "id": "98b316a4-5322-4782-8e36-4b3c1a696d85",
   "metadata": {
    "tags": []
   },
   "outputs": [
    {
     "data": {
      "text/plain": [
       "(None, 75, 41)"
      ]
     },
     "execution_count": 73,
     "metadata": {},
     "output_type": "execute_result"
    }
   ],
   "source": [
    "model.output_shape"
   ]
  },
  {
   "cell_type": "markdown",
   "id": "2ec02176-5c26-46c3-aff7-8352e6563c7d",
   "metadata": {
    "tags": []
   },
   "source": [
    "# 4. Setup Training Options and Train"
   ]
  },
  {
   "cell_type": "code",
   "execution_count": 74,
   "id": "ab015fd0-7fb4-4d5d-9fa2-30a05dbd515a",
   "metadata": {
    "tags": []
   },
   "outputs": [],
   "source": [
    "def scheduler(epoch, lr):\n",
    "    if epoch < 30:\n",
    "        return lr\n",
    "    else:\n",
    "        return lr * tf.math.exp(-0.1)"
   ]
  },
  {
   "cell_type": "code",
   "execution_count": 75,
   "id": "c564d5c9-db54-4e88-b311-9aeab7fb3e69",
   "metadata": {
    "tags": []
   },
   "outputs": [],
   "source": [
    "def CTCLoss(y_true, y_pred):\n",
    "    batch_len = tf.cast(tf.shape(y_true)[0], dtype=\"int64\")\n",
    "    input_length = tf.cast(tf.shape(y_pred)[1], dtype=\"int64\")\n",
    "    label_length = tf.cast(tf.shape(y_true)[1], dtype=\"int64\")\n",
    "\n",
    "    input_length = input_length * tf.ones(shape=(batch_len, 1), dtype=\"int64\")\n",
    "    label_length = label_length * tf.ones(shape=(batch_len, 1), dtype=\"int64\")\n",
    "\n",
    "    loss = tf.keras.backend.ctc_batch_cost(y_true, y_pred, input_length, label_length)\n",
    "    return loss"
   ]
  },
  {
   "cell_type": "code",
   "execution_count": 77,
   "id": "a26dc3fc-a19c-4378-bd8c-e2b597a1d15c",
   "metadata": {
    "tags": []
   },
   "outputs": [],
   "source": [
    "class ProduceExample(tf.keras.callbacks.Callback): \n",
    "    def __init__(self, dataset) -> None: \n",
    "        self.dataset = dataset.as_numpy_iterator()\n",
    "    \n",
    "    def on_epoch_end(self, epoch, logs=None) -> None:\n",
    "        data = self.dataset.next()\n",
    "        yhat = self.model.predict(data[0])\n",
    "        decoded = tf.keras.backend.ctc_decode(yhat, [75,75], greedy=False)[0][0].numpy()\n",
    "        for x in range(len(yhat)):           \n",
    "            print('Original:', tf.strings.reduce_join(num_to_char(data[1][x])).numpy().decode('utf-8'))\n",
    "            print('Prediction:', tf.strings.reduce_join(num_to_char(decoded[x])).numpy().decode('utf-8'))\n",
    "            print('~'*100)"
   ]
  },
  {
   "cell_type": "code",
   "execution_count": 78,
   "id": "04be90d8-2482-46f9-b513-d5f4f8001c7e",
   "metadata": {
    "tags": []
   },
   "outputs": [],
   "source": [
    "model.compile(optimizer=Adam(learning_rate=0.0001), loss=CTCLoss)"
   ]
  },
  {
   "cell_type": "code",
   "execution_count": 80,
   "id": "eab49367-3f1e-4464-ae76-dbd07549d97e",
   "metadata": {
    "tags": []
   },
   "outputs": [],
   "source": [
    "checkpoint_callback = ModelCheckpoint(os.path.join('models', 'checkpoint.weights.h5'), monitor='loss', save_weights_only=True)\n",
    "\n",
    "# checkpoint_callback = ModelCheckpoint(os.path.join('models','checkpoint'), monitor='loss', save_weights_only=True) "
   ]
  },
  {
   "cell_type": "code",
   "execution_count": 81,
   "id": "e085a632-d464-46ef-8777-959cad4adb2c",
   "metadata": {
    "tags": []
   },
   "outputs": [],
   "source": [
    "schedule_callback = LearningRateScheduler(scheduler)"
   ]
  },
  {
   "cell_type": "code",
   "execution_count": 82,
   "id": "48eca991-90ab-4592-8a79-b50e9ca015b6",
   "metadata": {
    "tags": []
   },
   "outputs": [],
   "source": [
    "example_callback = ProduceExample(test)"
   ]
  },
  {
   "cell_type": "code",
   "execution_count": 84,
   "id": "aa472f23",
   "metadata": {},
   "outputs": [],
   "source": [
    "import tensorflow as tf\n",
    "\n",
    "# Define CTC loss using the Keras API\n",
    "def ctc_loss(y_true, y_pred):\n",
    "    return tf.reduce_mean(tf.keras.backend.ctc_batch_cost(y_true, y_pred))\n",
    "\n",
    "# Example model compilation\n",
    "model.compile(optimizer='adam', loss=ctc_loss)\n"
   ]
  },
  {
   "cell_type": "code",
   "execution_count": 86,
   "id": "ac5cccb5",
   "metadata": {},
   "outputs": [],
   "source": [
    "import tensorflow as tf\n",
    "\n",
    "# Define CTC loss using the Keras API\n",
    "def ctc_loss(y_true, y_pred):\n",
    "    # Calculate input_length and label_length\n",
    "    input_length = tf.fill([tf.shape(y_pred)[0]], tf.shape(y_pred)[1])  # Assuming input length is equal for all sequences\n",
    "    label_length = tf.fill([tf.shape(y_true)[0]], tf.shape(y_true)[1])  # Assuming label length is equal for all sequences\n",
    "\n",
    "    return tf.reduce_mean(tf.keras.backend.ctc_batch_cost(y_true, y_pred, input_length, label_length))\n",
    "\n",
    "# Example model compilation\n",
    "model.compile(optimizer='adam', loss=ctc_loss)\n"
   ]
  },
  {
   "cell_type": "code",
   "execution_count": 88,
   "id": "9eb679df",
   "metadata": {},
   "outputs": [],
   "source": [
    "import tensorflow as tf\n",
    "\n",
    "# Define CTC loss using the Keras API\n",
    "def ctc_loss(y_true, y_pred):\n",
    "    # Calculate input_length as the time dimension of y_pred (number of time steps)\n",
    "    input_length = tf.fill([tf.shape(y_pred)[0]], tf.shape(y_pred)[1])  # Time steps (y_pred.shape[1])\n",
    "    \n",
    "    # Calculate label_length as the number of non-padding elements in y_true (max_label_length)\n",
    "    label_length = tf.fill([tf.shape(y_true)[0]], tf.shape(y_true)[1])  # Label length (y_true.shape[1])\n",
    "\n",
    "    return tf.reduce_mean(tf.keras.backend.ctc_batch_cost(y_true, y_pred, input_length, label_length))\n",
    "\n",
    "# Example model compilation\n",
    "model.compile(optimizer='adam', loss=ctc_loss)\n"
   ]
  },
  {
   "cell_type": "code",
   "execution_count": 91,
   "id": "99f63e68",
   "metadata": {},
   "outputs": [],
   "source": [
    "def ctc_loss(y_true, y_pred):\n",
    "    print(f\"y_true shape: {y_true.shape}\")\n",
    "    print(f\"y_pred shape: {y_pred.shape}\")\n",
    "    \n",
    "    input_length = tf.fill([tf.shape(y_pred)[0]], tf.shape(y_pred)[1])  # Time steps (y_pred.shape[1])\n",
    "    label_length = tf.fill([tf.shape(y_true)[0]], tf.shape(y_true)[1])  # Label length (y_true.shape[1])\n",
    "\n",
    "    return tf.reduce_mean(tf.keras.backend.ctc_batch_cost(y_true, y_pred, input_length, label_length))\n"
   ]
  },
  {
   "cell_type": "code",
   "execution_count": 92,
   "id": "5d6b5ec3",
   "metadata": {},
   "outputs": [],
   "source": [
    "import tensorflow as tf\n",
    "\n",
    "# Define CTC loss function\n",
    "def ctc_loss(y_true, y_pred):\n",
    "    # Ensure y_true is integer encoded (not one-hot encoded)\n",
    "    # y_pred: (batch_size, time_steps, num_classes)\n",
    "    # y_true: (batch_size, max_label_length)\n",
    "    \n",
    "    # Calculate the input length (time steps) for each sample\n",
    "    input_length = tf.fill([tf.shape(y_pred)[0]], tf.shape(y_pred)[1])  # All sequences have the same length\n",
    "    \n",
    "    # Calculate label length (this is the actual length of each label in the batch)\n",
    "    label_length = tf.reduce_sum(tf.cast(tf.not_equal(y_true, 0), tf.int32), axis=1)  # Assuming 0 is padding in y_true\n",
    "    \n",
    "    # Use Keras CTC loss function\n",
    "    return tf.reduce_mean(tf.keras.backend.ctc_batch_cost(y_true, y_pred, input_length, label_length))\n",
    "\n",
    "# Example of how to compile your model with the custom loss\n",
    "model.compile(optimizer='adam', loss=ctc_loss)\n"
   ]
  },
  {
   "cell_type": "code",
   "execution_count": 97,
   "id": "b3aecb2f",
   "metadata": {},
   "outputs": [],
   "source": [
    "def ctc_loss(y_true, y_pred):\n",
    "    print(f\"y_true shape: {y_true.shape}\")\n",
    "    print(f\"y_pred shape: {y_pred.shape}\")\n",
    "\n",
    "    # Calculate the input length (time steps for each sequence)\n",
    "    input_length = tf.fill([tf.shape(y_pred)[0]], tf.shape(y_pred)[1])  # All sequences have the same length\n",
    "\n",
    "    # Calculate the label length (the number of non-padding labels)\n",
    "    label_length = tf.reduce_sum(tf.cast(tf.not_equal(y_true, 0), tf.int32), axis=1)\n",
    "\n",
    "    return tf.reduce_mean(tf.keras.backend.ctc_batch_cost(y_true, y_pred, input_length, label_length))\n"
   ]
  },
  {
   "cell_type": "code",
   "execution_count": 99,
   "id": "dfd74035",
   "metadata": {},
   "outputs": [],
   "source": [
    "y_true = [[1, 2, 3, 0],  # Sample 1 (padded with 0)\n",
    "          [4, 5, 6, 0]]  # Sample 2 (padded with 0)\n",
    "\n",
    "label_length = tf.reduce_sum(tf.cast(tf.not_equal(y_true, 0), tf.int32), axis=1)\n"
   ]
  },
  {
   "cell_type": "code",
   "execution_count": null,
   "id": "b057bde7",
   "metadata": {},
   "outputs": [],
   "source": [
    "import tensorflow as tf\n",
    "\n",
    "def ctc_loss(y_true, y_pred):\n",
    "    # Print the shapes of y_true and y_pred for debugging\n",
    "    print(f\"y_true shape: {y_true.shape}\")\n",
    "    print(f\"y_pred shape: {y_pred.shape}\")\n",
    "    \n",
    "    # Adjust input length to match the time steps in y_pred\n",
    "    input_length = tf.fill([tf.shape(y_pred)[0]], tf.shape(y_pred)[1])  # Set the input length to the number of time steps\n",
    "    \n",
    "    # Adjust label length to match the sequence length in y_true\n",
    "    label_length = tf.reduce_sum(tf.cast(tf.not_equal(y_true, 0), tf.int32), axis=1)\n",
    "    \n",
    "    # Use the built-in CTC loss function\n",
    "    return tf.reduce_mean(tf.compat.v1.nn.ctc_loss(y_true, y_pred, input_length, label_length))\n",
    "\n",
    "# Compile your model with the custom CTC loss function\n",
    "model.compile(optimizer='adam', loss=ctc_loss) \n",
    " \n",
    "\n"
   ]
  },
  {
   "cell_type": "code",
   "execution_count": 108,
   "id": "3c5e4d2d",
   "metadata": {},
   "outputs": [],
   "source": [
    "import tensorflow as tf\n",
    "\n",
    "def ctc_loss(y_true, y_pred):\n",
    "    # Print the shapes of y_true and y_pred for debugging\n",
    "    print(f\"y_true shape: {y_true.shape}\")\n",
    "    print(f\"y_pred shape: {y_pred.shape}\")\n",
    "    \n",
    "    # Convert y_true (dense) to SparseTensor\n",
    "    y_true_sparse = tf.sparse.from_dense(tf.cast(y_true, tf.int32))\n",
    "    \n",
    "    # Adjust input length to match the time steps in y_pred\n",
    "    input_length = tf.fill([tf.shape(y_pred)[0]], tf.shape(y_pred)[1])  # Set the input length to the number of time steps\n",
    "    \n",
    "    # Adjust label length to match the sequence length in y_true\n",
    "    label_length = tf.reduce_sum(tf.cast(tf.not_equal(y_true, 0), tf.int32), axis=1)\n",
    "    \n",
    "    # Use the built-in CTC loss function\n",
    "    return tf.reduce_mean(tf.compat.v1.nn.ctc_loss(y_true_sparse, y_pred, input_length, label_length))\n",
    "\n",
    "# Compile your model with the custom CTC loss function\n",
    "model.compile(optimizer='adam', loss=ctc_loss)\n",
    "\n",
    "\n"
   ]
  },
  {
   "cell_type": "code",
   "execution_count": 109,
   "id": "8ffba483-aa61-4bbe-a15f-a73e1ddf097c",
   "metadata": {
    "tags": []
   },
   "outputs": [
    {
     "name": "stdout",
     "output_type": "stream",
     "text": [
      "Epoch 1/100\n",
      "y_true shape: (None, 40)\n",
      "y_pred shape: (None, 75, 41)\n"
     ]
    },
    {
     "ename": "TypeError",
     "evalue": "Expected bool for argument 'preprocess_collapse_repeated' not <tf.Tensor 'compile_loss/ctc_loss/Sum:0' shape=(None,) dtype=int32>.",
     "output_type": "error",
     "traceback": [
      "\u001b[1;31m---------------------------------------------------------------------------\u001b[0m",
      "\u001b[1;31mTypeError\u001b[0m                                 Traceback (most recent call last)",
      "Cell \u001b[1;32mIn[109], line 1\u001b[0m\n\u001b[1;32m----> 1\u001b[0m \u001b[43mmodel\u001b[49m\u001b[38;5;241;43m.\u001b[39;49m\u001b[43mfit\u001b[49m\u001b[43m(\u001b[49m\u001b[43mtrain\u001b[49m\u001b[43m,\u001b[49m\u001b[43m \u001b[49m\u001b[43mepochs\u001b[49m\u001b[38;5;241;43m=\u001b[39;49m\u001b[38;5;241;43m100\u001b[39;49m\u001b[43m,\u001b[49m\u001b[43m \u001b[49m\u001b[43mcallbacks\u001b[49m\u001b[38;5;241;43m=\u001b[39;49m\u001b[43m[\u001b[49m\u001b[43mcheckpoint_callback\u001b[49m\u001b[43m,\u001b[49m\u001b[43m \u001b[49m\u001b[43mschedule_callback\u001b[49m\u001b[43m,\u001b[49m\u001b[43m \u001b[49m\u001b[43mexample_callback\u001b[49m\u001b[43m]\u001b[49m\u001b[43m)\u001b[49m\n",
      "File \u001b[1;32mc:\\Users\\TARUNA MAURYA\\AppData\\Local\\Programs\\Python\\Python312\\Lib\\site-packages\\keras\\src\\utils\\traceback_utils.py:122\u001b[0m, in \u001b[0;36mfilter_traceback.<locals>.error_handler\u001b[1;34m(*args, **kwargs)\u001b[0m\n\u001b[0;32m    119\u001b[0m     filtered_tb \u001b[38;5;241m=\u001b[39m _process_traceback_frames(e\u001b[38;5;241m.\u001b[39m__traceback__)\n\u001b[0;32m    120\u001b[0m     \u001b[38;5;66;03m# To get the full stack trace, call:\u001b[39;00m\n\u001b[0;32m    121\u001b[0m     \u001b[38;5;66;03m# `keras.config.disable_traceback_filtering()`\u001b[39;00m\n\u001b[1;32m--> 122\u001b[0m     \u001b[38;5;28;01mraise\u001b[39;00m e\u001b[38;5;241m.\u001b[39mwith_traceback(filtered_tb) \u001b[38;5;28;01mfrom\u001b[39;00m \u001b[38;5;28;01mNone\u001b[39;00m\n\u001b[0;32m    123\u001b[0m \u001b[38;5;28;01mfinally\u001b[39;00m:\n\u001b[0;32m    124\u001b[0m     \u001b[38;5;28;01mdel\u001b[39;00m filtered_tb\n",
      "Cell \u001b[1;32mIn[108], line 18\u001b[0m, in \u001b[0;36mctc_loss\u001b[1;34m(y_true, y_pred)\u001b[0m\n\u001b[0;32m     15\u001b[0m label_length \u001b[38;5;241m=\u001b[39m tf\u001b[38;5;241m.\u001b[39mreduce_sum(tf\u001b[38;5;241m.\u001b[39mcast(tf\u001b[38;5;241m.\u001b[39mnot_equal(y_true, \u001b[38;5;241m0\u001b[39m), tf\u001b[38;5;241m.\u001b[39mint32), axis\u001b[38;5;241m=\u001b[39m\u001b[38;5;241m1\u001b[39m)\n\u001b[0;32m     17\u001b[0m \u001b[38;5;66;03m# Use the built-in CTC loss function\u001b[39;00m\n\u001b[1;32m---> 18\u001b[0m \u001b[38;5;28;01mreturn\u001b[39;00m tf\u001b[38;5;241m.\u001b[39mreduce_mean(\u001b[43mtf\u001b[49m\u001b[38;5;241;43m.\u001b[39;49m\u001b[43mcompat\u001b[49m\u001b[38;5;241;43m.\u001b[39;49m\u001b[43mv1\u001b[49m\u001b[38;5;241;43m.\u001b[39;49m\u001b[43mnn\u001b[49m\u001b[38;5;241;43m.\u001b[39;49m\u001b[43mctc_loss\u001b[49m\u001b[43m(\u001b[49m\u001b[43my_true_sparse\u001b[49m\u001b[43m,\u001b[49m\u001b[43m \u001b[49m\u001b[43my_pred\u001b[49m\u001b[43m,\u001b[49m\u001b[43m \u001b[49m\u001b[43minput_length\u001b[49m\u001b[43m,\u001b[49m\u001b[43m \u001b[49m\u001b[43mlabel_length\u001b[49m\u001b[43m)\u001b[49m)\n",
      "\u001b[1;31mTypeError\u001b[0m: Expected bool for argument 'preprocess_collapse_repeated' not <tf.Tensor 'compile_loss/ctc_loss/Sum:0' shape=(None,) dtype=int32>."
     ]
    }
   ],
   "source": [
    "model.fit(train, epochs=100, callbacks=[checkpoint_callback, schedule_callback, example_callback])"
   ]
  },
  {
   "cell_type": "markdown",
   "id": "fa8ee94b-89f7-4733-8a0c-a86f86ff590a",
   "metadata": {
    "tags": []
   },
   "source": [
    "# 5. Make a Prediction "
   ]
  },
  {
   "cell_type": "code",
   "execution_count": null,
   "id": "01fa7204-ce0e-49a8-8dbd-14fe5dfead40",
   "metadata": {
    "tags": []
   },
   "outputs": [],
   "source": [
    "url = 'https://drive.google.com/uc?id=1vWscXs4Vt0a_1IH1-ct2TCgXAZT-N3_Y'\n",
    "output = 'checkpoints.zip'\n",
    "gdown.download(url, output, quiet=False)\n",
    "gdown.extractall('checkpoints.zip', 'models')"
   ]
  },
  {
   "cell_type": "code",
   "execution_count": 53,
   "id": "247f664d-3c87-4e96-946e-930dad0e1c2c",
   "metadata": {
    "tags": []
   },
   "outputs": [
    {
     "data": {
      "text/plain": [
       "<tensorflow.python.checkpoint.checkpoint.CheckpointLoadStatus at 0x10cfb56c6a0>"
      ]
     },
     "execution_count": 53,
     "metadata": {},
     "output_type": "execute_result"
    }
   ],
   "source": [
    "model.load_weights('models/checkpoint')"
   ]
  },
  {
   "cell_type": "code",
   "execution_count": 54,
   "id": "7f8d689f-b7bb-443c-9b88-e40c1d800828",
   "metadata": {
    "tags": []
   },
   "outputs": [],
   "source": [
    "test_data = test.as_numpy_iterator()"
   ]
  },
  {
   "cell_type": "code",
   "execution_count": 56,
   "id": "38546dc2-bee9-4837-864b-8a884df40ad7",
   "metadata": {
    "tags": []
   },
   "outputs": [],
   "source": [
    "sample = test_data.next()"
   ]
  },
  {
   "cell_type": "code",
   "execution_count": 57,
   "id": "a43621f0-229d-4c0d-9554-9c3a3da9c61a",
   "metadata": {
    "tags": []
   },
   "outputs": [
    {
     "name": "stdout",
     "output_type": "stream",
     "text": [
      "1/1 [==============================] - 1s 973ms/step\n"
     ]
    }
   ],
   "source": [
    "yhat = model.predict(sample[0])"
   ]
  },
  {
   "cell_type": "code",
   "execution_count": 58,
   "id": "ea462999-f87e-4a7e-a057-5be7b6d8f7d5",
   "metadata": {
    "tags": []
   },
   "outputs": [
    {
     "name": "stdout",
     "output_type": "stream",
     "text": [
      "~~~~~~~~~~~~~~~~~~~~~~~~~~~~~~~~~~~~~~~~~~~~~~~~~~~~~~~~~~~~~~~~~~~~~~~~~~~~~~~~~~~~~~~~~~~~~~~~~~~~ REAL TEXT\n"
     ]
    },
    {
     "data": {
      "text/plain": [
       "[<tf.Tensor: shape=(), dtype=string, numpy=b'place white at x six please'>,\n",
       " <tf.Tensor: shape=(), dtype=string, numpy=b'lay blue in x four now'>]"
      ]
     },
     "execution_count": 58,
     "metadata": {},
     "output_type": "execute_result"
    }
   ],
   "source": [
    "print('~'*100, 'REAL TEXT')\n",
    "[tf.strings.reduce_join([num_to_char(word) for word in sentence]) for sentence in sample[1]]"
   ]
  },
  {
   "cell_type": "code",
   "execution_count": 59,
   "id": "82bd4c10-dd6e-411e-834b-2a3b43fd12c5",
   "metadata": {
    "tags": []
   },
   "outputs": [],
   "source": [
    "decoded = tf.keras.backend.ctc_decode(yhat, input_length=[75,75], greedy=True)[0][0].numpy()"
   ]
  },
  {
   "cell_type": "code",
   "execution_count": 60,
   "id": "5d68ac46-c90b-4eab-a709-f19aee569ff5",
   "metadata": {
    "tags": []
   },
   "outputs": [
    {
     "name": "stdout",
     "output_type": "stream",
     "text": [
      "~~~~~~~~~~~~~~~~~~~~~~~~~~~~~~~~~~~~~~~~~~~~~~~~~~~~~~~~~~~~~~~~~~~~~~~~~~~~~~~~~~~~~~~~~~~~~~~~~~~~ PREDICTIONS\n"
     ]
    },
    {
     "data": {
      "text/plain": [
       "[<tf.Tensor: shape=(), dtype=string, numpy=b'place white at x six please'>,\n",
       " <tf.Tensor: shape=(), dtype=string, numpy=b'lay blue in x four now'>]"
      ]
     },
     "execution_count": 60,
     "metadata": {},
     "output_type": "execute_result"
    }
   ],
   "source": [
    "print('~'*100, 'PREDICTIONS')\n",
    "[tf.strings.reduce_join([num_to_char(word) for word in sentence]) for sentence in decoded]"
   ]
  },
  {
   "cell_type": "markdown",
   "id": "64622f98-e99b-4fed-a2cc-f0da82eb5431",
   "metadata": {},
   "source": [
    "# Test on a Video"
   ]
  },
  {
   "cell_type": "code",
   "execution_count": 61,
   "id": "a8b0c4d0-2031-4331-b91d-d87b1ae6f6e2",
   "metadata": {},
   "outputs": [],
   "source": [
    "sample = load_data(tf.convert_to_tensor('.\\\\data\\\\s1\\\\bras9a.mpg'))"
   ]
  },
  {
   "cell_type": "code",
   "execution_count": 62,
   "id": "0cca60e4-47a9-4683-8a75-48f4684f723d",
   "metadata": {},
   "outputs": [
    {
     "name": "stdout",
     "output_type": "stream",
     "text": [
      "~~~~~~~~~~~~~~~~~~~~~~~~~~~~~~~~~~~~~~~~~~~~~~~~~~~~~~~~~~~~~~~~~~~~~~~~~~~~~~~~~~~~~~~~~~~~~~~~~~~~ REAL TEXT\n"
     ]
    },
    {
     "data": {
      "text/plain": [
       "[<tf.Tensor: shape=(), dtype=string, numpy=b'bin red at s nine again'>]"
      ]
     },
     "execution_count": 62,
     "metadata": {},
     "output_type": "execute_result"
    }
   ],
   "source": [
    "print('~'*100, 'REAL TEXT')\n",
    "[tf.strings.reduce_join([num_to_char(word) for word in sentence]) for sentence in [sample[1]]]"
   ]
  },
  {
   "cell_type": "code",
   "execution_count": 63,
   "id": "8cc5037c-1e32-435c-b0cc-01e1fb3b863c",
   "metadata": {},
   "outputs": [
    {
     "name": "stdout",
     "output_type": "stream",
     "text": [
      "1/1 [==============================] - 1s 720ms/step\n"
     ]
    }
   ],
   "source": [
    "yhat = model.predict(tf.expand_dims(sample[0], axis=0))"
   ]
  },
  {
   "cell_type": "code",
   "execution_count": 64,
   "id": "22c4f77d-715d-409f-bc5e-3ebe48704e8f",
   "metadata": {},
   "outputs": [],
   "source": [
    "decoded = tf.keras.backend.ctc_decode(yhat, input_length=[75], greedy=True)[0][0].numpy()"
   ]
  },
  {
   "cell_type": "code",
   "execution_count": 65,
   "id": "e4d12ecc-b634-499e-a4bc-db9f010835fb",
   "metadata": {},
   "outputs": [
    {
     "name": "stdout",
     "output_type": "stream",
     "text": [
      "~~~~~~~~~~~~~~~~~~~~~~~~~~~~~~~~~~~~~~~~~~~~~~~~~~~~~~~~~~~~~~~~~~~~~~~~~~~~~~~~~~~~~~~~~~~~~~~~~~~~ PREDICTIONS\n"
     ]
    },
    {
     "data": {
      "text/plain": [
       "[<tf.Tensor: shape=(), dtype=string, numpy=b'bin red at s nine again'>]"
      ]
     },
     "execution_count": 65,
     "metadata": {},
     "output_type": "execute_result"
    }
   ],
   "source": [
    "print('~'*100, 'PREDICTIONS')\n",
    "[tf.strings.reduce_join([num_to_char(word) for word in sentence]) for sentence in decoded]"
   ]
  },
  {
   "cell_type": "code",
   "execution_count": null,
   "id": "551dfea2-de6b-4400-b71a-a17631529e3f",
   "metadata": {},
   "outputs": [],
   "source": []
  },
  {
   "cell_type": "code",
   "execution_count": null,
   "id": "fa95863d-3832-47bf-8a77-ebaa38054ace",
   "metadata": {},
   "outputs": [],
   "source": []
  }
 ],
 "metadata": {
  "kernelspec": {
   "display_name": "Python 3",
   "language": "python",
   "name": "python3"
  },
  "language_info": {
   "codemirror_mode": {
    "name": "ipython",
    "version": 3
   },
   "file_extension": ".py",
   "mimetype": "text/x-python",
   "name": "python",
   "nbconvert_exporter": "python",
   "pygments_lexer": "ipython3",
   "version": "3.12.0"
  }
 },
 "nbformat": 4,
 "nbformat_minor": 5
}
